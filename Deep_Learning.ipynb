{
 "cells": [
  {
   "cell_type": "code",
   "execution_count": null,
   "metadata": {
    "id": "Nov1xtjmTdOq"
   },
   "outputs": [],
   "source": [
    "# import best_team as Dream_Team_2.0"
   ]
  },
  {
   "cell_type": "markdown",
   "metadata": {
    "id": "Git0vXjNVYgG"
   },
   "source": [
    "### Import all nessary Liberies. "
   ]
  },
  {
   "cell_type": "code",
   "execution_count": 2,
   "metadata": {},
   "outputs": [
    {
     "name": "stdout",
     "output_type": "stream",
     "text": [
      "Collecting librosa\n",
      "  Downloading librosa-0.8.1-py3-none-any.whl (203 kB)\n",
      "Collecting audioread>=2.0.0\n",
      "  Downloading audioread-2.1.9.tar.gz (377 kB)\n",
      "Requirement already satisfied: scikit-learn!=0.19.0,>=0.14.0 in c:\\users\\ahmad\\anaconda3\\lib\\site-packages (from librosa) (0.24.2)\n",
      "Collecting soundfile>=0.10.2\n",
      "  Downloading SoundFile-0.10.3.post1-py2.py3.cp26.cp27.cp32.cp33.cp34.cp35.cp36.pp27.pp32.pp33-none-win_amd64.whl (689 kB)\n",
      "Collecting pooch>=1.0\n",
      "  Downloading pooch-1.5.2-py3-none-any.whl (57 kB)\n",
      "Requirement already satisfied: numpy>=1.15.0 in c:\\users\\ahmad\\anaconda3\\lib\\site-packages (from librosa) (1.19.5)\n",
      "Requirement already satisfied: joblib>=0.14 in c:\\users\\ahmad\\anaconda3\\lib\\site-packages (from librosa) (1.0.1)\n",
      "Requirement already satisfied: decorator>=3.0.0 in c:\\users\\ahmad\\anaconda3\\lib\\site-packages (from librosa) (5.1.0)\n",
      "Collecting resampy>=0.2.2\n",
      "  Downloading resampy-0.2.2.tar.gz (323 kB)\n",
      "Requirement already satisfied: packaging>=20.0 in c:\\users\\ahmad\\anaconda3\\lib\\site-packages (from librosa) (21.0)\n",
      "Requirement already satisfied: numba>=0.43.0 in c:\\users\\ahmad\\anaconda3\\lib\\site-packages (from librosa) (0.53.1)\n",
      "Requirement already satisfied: scipy>=1.0.0 in c:\\users\\ahmad\\anaconda3\\lib\\site-packages (from librosa) (1.7.1)\n",
      "Requirement already satisfied: llvmlite<0.37,>=0.36.0rc1 in c:\\users\\ahmad\\anaconda3\\lib\\site-packages (from numba>=0.43.0->librosa) (0.36.0)\n",
      "Requirement already satisfied: setuptools in c:\\users\\ahmad\\anaconda3\\lib\\site-packages (from numba>=0.43.0->librosa) (58.0.4)\n",
      "Requirement already satisfied: pyparsing>=2.0.2 in c:\\users\\ahmad\\anaconda3\\lib\\site-packages (from packaging>=20.0->librosa) (2.4.7)\n",
      "Requirement already satisfied: requests in c:\\users\\ahmad\\anaconda3\\lib\\site-packages (from pooch>=1.0->librosa) (2.26.0)\n",
      "Requirement already satisfied: appdirs in c:\\users\\ahmad\\anaconda3\\lib\\site-packages (from pooch>=1.0->librosa) (1.4.4)\n",
      "Requirement already satisfied: six>=1.3 in c:\\users\\ahmad\\anaconda3\\lib\\site-packages (from resampy>=0.2.2->librosa) (1.15.0)\n",
      "Requirement already satisfied: threadpoolctl>=2.0.0 in c:\\users\\ahmad\\anaconda3\\lib\\site-packages (from scikit-learn!=0.19.0,>=0.14.0->librosa) (2.2.0)\n",
      "Requirement already satisfied: cffi>=1.0 in c:\\users\\ahmad\\anaconda3\\lib\\site-packages (from soundfile>=0.10.2->librosa) (1.14.6)\n",
      "Requirement already satisfied: pycparser in c:\\users\\ahmad\\anaconda3\\lib\\site-packages (from cffi>=1.0->soundfile>=0.10.2->librosa) (2.20)\n",
      "Requirement already satisfied: idna<4,>=2.5 in c:\\users\\ahmad\\anaconda3\\lib\\site-packages (from requests->pooch>=1.0->librosa) (3.2)\n",
      "Requirement already satisfied: certifi>=2017.4.17 in c:\\users\\ahmad\\anaconda3\\lib\\site-packages (from requests->pooch>=1.0->librosa) (2021.5.30)\n",
      "Requirement already satisfied: charset-normalizer~=2.0.0 in c:\\users\\ahmad\\anaconda3\\lib\\site-packages (from requests->pooch>=1.0->librosa) (2.0.4)\n",
      "Requirement already satisfied: urllib3<1.27,>=1.21.1 in c:\\users\\ahmad\\anaconda3\\lib\\site-packages (from requests->pooch>=1.0->librosa) (1.26.7)\n",
      "Building wheels for collected packages: audioread, resampy\n",
      "  Building wheel for audioread (setup.py): started\n",
      "  Building wheel for audioread (setup.py): finished with status 'done'\n",
      "  Created wheel for audioread: filename=audioread-2.1.9-py3-none-any.whl size=23154 sha256=2ceebd8cd297c6f92599c8fb7d1aa86673044777ffdcaaf5f3d425006f42e0bf\n",
      "  Stored in directory: c:\\users\\ahmad\\appdata\\local\\pip\\cache\\wheels\\49\\5a\\e4\\df590783499a992a88de6c0898991d1167453a3196d0d1eeb7\n",
      "  Building wheel for resampy (setup.py): started\n",
      "  Building wheel for resampy (setup.py): finished with status 'done'\n",
      "  Created wheel for resampy: filename=resampy-0.2.2-py3-none-any.whl size=320731 sha256=5361ba17611232cb0536cb38491757a3526c9f03c1e576b634bf54eb46abcea9\n",
      "  Stored in directory: c:\\users\\ahmad\\appdata\\local\\pip\\cache\\wheels\\6f\\d1\\5d\\f13da53b1dcbc2624ff548456c9ffb526c914f53c12c318bb4\n",
      "Successfully built audioread resampy\n",
      "Installing collected packages: soundfile, resampy, pooch, audioread, librosa\n",
      "Successfully installed audioread-2.1.9 librosa-0.8.1 pooch-1.5.2 resampy-0.2.2 soundfile-0.10.3.post1\n"
     ]
    }
   ],
   "source": [
    "!pip install librosa"
   ]
  },
  {
   "cell_type": "code",
   "execution_count": 3,
   "metadata": {
    "id": "wjTAEgOWT9R4"
   },
   "outputs": [],
   "source": [
    "import numpy as np\n",
    "import pandas as pd\n",
    "from tensorflow.compat.v1 import ConfigProto\n",
    "from tensorflow.compat.v1 import Session\n",
    "import os\n",
    "import librosa\n",
    "import IPython.display as ipd\n",
    "import matplotlib.pyplot as plt\n",
    "from scipy.io import wavfile\n",
    "from tqdm import tqdm\n",
    "import warnings\n"
   ]
  },
  {
   "cell_type": "code",
   "execution_count": null,
   "metadata": {
    "id": "YhfHrHX0gagc"
   },
   "outputs": [],
   "source": [
    "config = ConfigProto()\n",
    "config.gpu_options.allow_growth = True\n",
    "sess = Session(config=config)\n",
    "warnings.filterwarnings(\"ignore\")"
   ]
  },
  {
   "cell_type": "code",
   "execution_count": null,
   "metadata": {
    "colab": {
     "base_uri": "https://localhost:8080/",
     "height": 36
    },
    "id": "-8oqIqaFWljD",
    "outputId": "f9fba834-e1e5-4f36-eb69-5de6bf715f05"
   },
   "outputs": [
    {
     "data": {
      "application/vnd.google.colaboratory.intrinsic+json": {
       "type": "string"
      },
      "text/plain": [
       "'/device:GPU:0'"
      ]
     },
     "execution_count": 24,
     "metadata": {},
     "output_type": "execute_result"
    }
   ],
   "source": [
    "import tensorflow as tf\n",
    "tf.test.gpu_device_name()"
   ]
  },
  {
   "cell_type": "markdown",
   "metadata": {
    "id": "BmS6pssdZ-WZ"
   },
   "source": [
    "### Import Data:\n"
   ]
  },
  {
   "cell_type": "markdown",
   "metadata": {
    "id": "9j9mBf18f1bD"
   },
   "source": [
    "Preprocessing the audio waves\n",
    "\n",
    "In the used dataset, the duration of a few recordings is less than 1 second and the sampling rate is too high. So, let us read the audio waves and use the below-preprocessing steps to deal with this. Here are the two steps we’ll follow:\n",
    "- Resampling\n",
    "- Removing shorter commands of less than 1 second.\n",
    "\n",
    "Let us define these pre-processing steps in the below code snippet:"
   ]
  },
  {
   "cell_type": "code",
   "execution_count": 4,
   "metadata": {
    "id": "Om8ftjNdgHKe"
   },
   "outputs": [],
   "source": [
    "# All samples\n",
    "# labels = [\n",
    "#     'left', 'cat', 'wow', 'six', 'go', 'one', 'dog', 'nine', 'sheila', 'yes',\n",
    "#     'down', 'bird', 'tree', 'up', 'eight', 'bed', 'three', 'on', 'house',\n",
    "#     'five', 'seven', 'zero', 'right', 'four', 'no', 'two', 'off', 'happy',\n",
    "#     'stop', 'marvin'\n",
    "# ]\n",
    "\n",
    "# Subsample\n",
    "labels = [\n",
    "    'left', 'go', 'yes', 'down', 'up', 'on', 'right', 'no', 'off', 'stop',\n",
    "]"
   ]
  },
  {
   "cell_type": "code",
   "execution_count": null,
   "metadata": {
    "colab": {
     "base_uri": "https://localhost:8080/"
    },
    "id": "rCfNnZAyczc-",
    "outputId": "5280b232-6244-4d57-de9c-adb7133fa966"
   },
   "outputs": [
    {
     "name": "stdout",
     "output_type": "stream",
     "text": [
      "Mounted at /content/drive\n"
     ]
    }
   ],
   "source": [
    "from google.colab import drive\n",
    "drive.mount('/content/drive', force_remount=True)"
   ]
  },
  {
   "cell_type": "markdown",
   "metadata": {
    "id": "rZMhdcm-nFX7"
   },
   "source": [
    "**Signal Processing**\n",
    "\n",
    "There are many ways to transform an audio waves into elements that an algorithm can process.In this way an audio is represented through a number vector, in which each number represents the amplitude of the sound wave in intervals of 1/16000 of a second."
   ]
  },
  {
   "cell_type": "markdown",
   "metadata": {
    "id": "e9WoWTmPoQ90"
   },
   "source": [
    "![300px-Signal_Sampling.svg.png](data:image/png;base64,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)"
   ]
  },
  {
   "cell_type": "markdown",
   "metadata": {
    "id": "foMzIhCFpBX1"
   },
   "source": [
    "The sampling frequency or sampling rate, fs, is the average number of samples obtained in one second, thus fs = 1/T. Its units are samples per second or hertz e.g. 48 kHz is 48,000 samples per second. [source](https://en.wikipedia.org/wiki/Sampling_(signal_processing))"
   ]
  },
  {
   "cell_type": "markdown",
   "metadata": {
    "id": "fQiVkUpSqRBz"
   },
   "source": [
    "from the bottom code, we can understand that the sampling rate of the signal is 16000 hz. Let us resample it to 8000 hz since most of the speech related frequencies are present in 8000 hz."
   ]
  },
  {
   "cell_type": "code",
   "execution_count": 32,
   "metadata": {
    "colab": {
     "base_uri": "https://localhost:8080/",
     "height": 416
    },
    "id": "-FDvQZz-g5y-",
    "outputId": "9f773e5b-a09c-428a-c9ec-3bba0f4cbd71"
   },
   "outputs": [
    {
     "name": "stderr",
     "output_type": "stream",
     "text": [
      "  0%|                                                                                           | 0/10 [00:00<?, ?it/s]\n"
     ]
    },
    {
     "ename": "FileNotFoundError",
     "evalue": "[WinError 3] The system cannot find the path specified: '/content/drive/MyDrive/Colab Notebooks/data/train/audio/left'",
     "output_type": "error",
     "traceback": [
      "\u001b[1;31m---------------------------------------------------------------------------\u001b[0m",
      "\u001b[1;31mFileNotFoundError\u001b[0m                         Traceback (most recent call last)",
      "\u001b[1;32m~\\AppData\\Local\\Temp/ipykernel_108/2359813042.py\u001b[0m in \u001b[0;36m<module>\u001b[1;34m\u001b[0m\n\u001b[0;32m      4\u001b[0m \u001b[0mall_label\u001b[0m \u001b[1;33m=\u001b[0m \u001b[1;33m[\u001b[0m\u001b[1;33m]\u001b[0m\u001b[1;33m\u001b[0m\u001b[1;33m\u001b[0m\u001b[0m\n\u001b[0;32m      5\u001b[0m \u001b[1;32mfor\u001b[0m \u001b[0mlabel\u001b[0m \u001b[1;32min\u001b[0m \u001b[0mtqdm\u001b[0m\u001b[1;33m(\u001b[0m\u001b[0mlabels\u001b[0m\u001b[1;33m)\u001b[0m\u001b[1;33m:\u001b[0m\u001b[1;33m\u001b[0m\u001b[1;33m\u001b[0m\u001b[0m\n\u001b[1;32m----> 6\u001b[1;33m     \u001b[0mwaves\u001b[0m \u001b[1;33m=\u001b[0m \u001b[1;33m[\u001b[0m\u001b[0mf\u001b[0m \u001b[1;32mfor\u001b[0m \u001b[0mf\u001b[0m \u001b[1;32min\u001b[0m \u001b[0mos\u001b[0m\u001b[1;33m.\u001b[0m\u001b[0mlistdir\u001b[0m\u001b[1;33m(\u001b[0m\u001b[0mtrain_audio_path\u001b[0m \u001b[1;33m+\u001b[0m \u001b[1;34m'/'\u001b[0m\u001b[1;33m+\u001b[0m \u001b[0mlabel\u001b[0m\u001b[1;33m)\u001b[0m \u001b[1;32mif\u001b[0m \u001b[0mf\u001b[0m\u001b[1;33m.\u001b[0m\u001b[0mendswith\u001b[0m\u001b[1;33m(\u001b[0m\u001b[1;34m'.wav'\u001b[0m\u001b[1;33m)\u001b[0m\u001b[1;33m]\u001b[0m\u001b[1;33m\u001b[0m\u001b[1;33m\u001b[0m\u001b[0m\n\u001b[0m\u001b[0;32m      7\u001b[0m     \u001b[1;32mfor\u001b[0m \u001b[0mwav\u001b[0m \u001b[1;32min\u001b[0m \u001b[0mwaves\u001b[0m\u001b[1;33m:\u001b[0m\u001b[1;33m\u001b[0m\u001b[1;33m\u001b[0m\u001b[0m\n\u001b[0;32m      8\u001b[0m         \u001b[0msamples\u001b[0m\u001b[1;33m,\u001b[0m \u001b[0msample_rate\u001b[0m \u001b[1;33m=\u001b[0m \u001b[0mlibrosa\u001b[0m\u001b[1;33m.\u001b[0m\u001b[0mload\u001b[0m\u001b[1;33m(\u001b[0m\u001b[0mtrain_audio_path\u001b[0m \u001b[1;33m+\u001b[0m \u001b[1;34m'/'\u001b[0m \u001b[1;33m+\u001b[0m \u001b[0mlabel\u001b[0m \u001b[1;33m+\u001b[0m \u001b[1;34m'/'\u001b[0m \u001b[1;33m+\u001b[0m \u001b[0mwav\u001b[0m\u001b[1;33m,\u001b[0m \u001b[0msr\u001b[0m \u001b[1;33m=\u001b[0m \u001b[1;36m16000\u001b[0m\u001b[1;33m)\u001b[0m\u001b[1;33m\u001b[0m\u001b[1;33m\u001b[0m\u001b[0m\n",
      "\u001b[1;31mFileNotFoundError\u001b[0m: [WinError 3] The system cannot find the path specified: '/content/drive/MyDrive/Colab Notebooks/data/train/audio/left'"
     ]
    }
   ],
   "source": [
    "\n",
    "\n",
    "train_audio_path = ''\n",
    "\n",
    "all_wave = []\n",
    "all_label = []\n",
    "for label in tqdm(labels):\n",
    "    waves = [f for f in os.listdir(train_audio_path + '/'+ label) if f.endswith('.wav')]\n",
    "    for wav in waves:\n",
    "        samples, sample_rate = librosa.load(train_audio_path + '/' + label + '/' + wav, sr = 16000)\n",
    "        samples = librosa.resample(samples, sample_rate, 8000)\n",
    "        if(len(samples)== 8000) : \n",
    "            all_wave.append(samples)\n",
    "            all_label.append(label)\n",
    "\n"
   ]
  },
  {
   "cell_type": "markdown",
   "metadata": {
    "id": "L4iu24Ywsw-h"
   },
   "source": [
    "\n",
    "here we convert the output labels to integer encoded and convert the integer encoded labels to a one-hot vector since it is a multi-target problem.\n"
   ]
  },
  {
   "cell_type": "code",
   "execution_count": null,
   "metadata": {
    "id": "TKmt7Hy_nSkJ"
   },
   "outputs": [],
   "source": [
    "\n",
    "\n",
    "from sklearn.preprocessing import LabelEncoder\n",
    "from keras.utils import np_utils\n",
    "\n",
    "label_enconder = LabelEncoder()\n",
    "y = label_enconder.fit_transform(all_label)\n",
    "classes = list(label_enconder.classes_)\n",
    "y = np_utils.to_categorical(y, num_classes=len(labels))\n",
    "\n"
   ]
  },
  {
   "cell_type": "markdown",
   "metadata": {
    "id": "FJmnvEIYs3v4"
   },
   "source": [
    "Using TensorFlow backend.\n",
    "Reshape the 2D array to 3D since the input to the conv1d must be a 3D array:\n"
   ]
  },
  {
   "cell_type": "code",
   "execution_count": null,
   "metadata": {
    "id": "ImPYZBz8s79s"
   },
   "outputs": [],
   "source": [
    "all_wave = np.array(all_wave).reshape(-1,8000,1)"
   ]
  },
  {
   "cell_type": "markdown",
   "metadata": {
    "id": "0TQHrWDRs_2b"
   },
   "source": [
    "**Split into train and validation set**\n",
    "\n",
    "Next, we will train the model on 80% of the data and validate on the remaining 20%:\n",
    "\n",
    "\n"
   ]
  },
  {
   "cell_type": "code",
   "execution_count": null,
   "metadata": {
    "id": "NZJw2xt2tNG7"
   },
   "outputs": [],
   "source": [
    "from sklearn.model_selection import train_test_split\n",
    "x_train, x_valid, y_train, y_valid = train_test_split(np.array(all_wave),np.array(y),stratify=y,test_size = 0.2,random_state=777,shuffle=True)\n"
   ]
  },
  {
   "cell_type": "markdown",
   "metadata": {
    "id": "fCOSGQqjtRWZ"
   },
   "source": [
    "\n",
    "#### Model Architecture\n"
   ]
  },
  {
   "cell_type": "code",
   "execution_count": null,
   "metadata": {
    "colab": {
     "base_uri": "https://localhost:8080/",
     "height": 245
    },
    "id": "8bG2pFGotW3X",
    "outputId": "5ea7d447-49f4-4bd0-a76f-4fad91a704bd"
   },
   "outputs": [
    {
     "ename": "NameError",
     "evalue": "ignored",
     "output_type": "error",
     "traceback": [
      "\u001b[0;31m---------------------------------------------------------------------------\u001b[0m",
      "\u001b[0;31mNameError\u001b[0m                                 Traceback (most recent call last)",
      "\u001b[0;32m<ipython-input-20-0e0fd61d08b3>\u001b[0m in \u001b[0;36m<module>\u001b[0;34m()\u001b[0m\n\u001b[1;32m     37\u001b[0m \u001b[0;31m#Dense Layer 1\u001b[0m\u001b[0;34m\u001b[0m\u001b[0;34m\u001b[0m\u001b[0;34m\u001b[0m\u001b[0m\n\u001b[1;32m     38\u001b[0m \u001b[0mx\u001b[0m \u001b[0;34m=\u001b[0m \u001b[0mDense\u001b[0m\u001b[0;34m(\u001b[0m\u001b[0;36m256\u001b[0m\u001b[0;34m,\u001b[0m \u001b[0mactivation\u001b[0m\u001b[0;34m=\u001b[0m\u001b[0;34m'relu'\u001b[0m\u001b[0;34m)\u001b[0m\u001b[0;34m(\u001b[0m\u001b[0mx\u001b[0m\u001b[0;34m)\u001b[0m\u001b[0;34m\u001b[0m\u001b[0;34m\u001b[0m\u001b[0m\n\u001b[0;32m---> 39\u001b[0;31m \u001b[0moutputs\u001b[0m \u001b[0;34m=\u001b[0m \u001b[0mDense\u001b[0m\u001b[0;34m(\u001b[0m\u001b[0mlen\u001b[0m\u001b[0;34m(\u001b[0m\u001b[0mlabels\u001b[0m\u001b[0;34m)\u001b[0m\u001b[0;34m,\u001b[0m \u001b[0mactivation\u001b[0m\u001b[0;34m=\u001b[0m\u001b[0;34m\"softmax\"\u001b[0m\u001b[0;34m)\u001b[0m\u001b[0;34m(\u001b[0m\u001b[0mx\u001b[0m\u001b[0;34m)\u001b[0m\u001b[0;34m\u001b[0m\u001b[0;34m\u001b[0m\u001b[0m\n\u001b[0m\u001b[1;32m     40\u001b[0m \u001b[0;34m\u001b[0m\u001b[0m\n\u001b[1;32m     41\u001b[0m \u001b[0mmodel\u001b[0m \u001b[0;34m=\u001b[0m \u001b[0mModel\u001b[0m\u001b[0;34m(\u001b[0m\u001b[0minputs\u001b[0m\u001b[0;34m,\u001b[0m \u001b[0moutputs\u001b[0m\u001b[0;34m)\u001b[0m\u001b[0;34m\u001b[0m\u001b[0;34m\u001b[0m\u001b[0m\n",
      "\u001b[0;31mNameError\u001b[0m: name 'labels' is not defined"
     ]
    }
   ],
   "source": [
    "from keras.layers import Bidirectional, BatchNormalization, CuDNNGRU, TimeDistributed\n",
    "from keras.layers import Dense, Dropout, Flatten, Conv1D, Input, MaxPooling1D\n",
    "from keras.models import Model\n",
    "from keras.callbacks import EarlyStopping, ModelCheckpoint\n",
    "from keras import backend as K\n",
    "K.clear_session()\n",
    "\n",
    "inputs = Input(shape=(8000,1))\n",
    "x = BatchNormalization(axis=-1, momentum=0.99, epsilon=1e-3, center=True, scale=True)(inputs)\n",
    "\n",
    "#First Conv1D layer\n",
    "x = Conv1D(8,13, padding='valid', activation='relu', strides=1)(x)\n",
    "x = MaxPooling1D(3)(x)\n",
    "x = Dropout(0.3)(x)\n",
    "\n",
    "#Second Conv1D layer\n",
    "x = Conv1D(16, 11, padding='valid', activation='relu', strides=1)(x)\n",
    "x = MaxPooling1D(3)(x)\n",
    "x = Dropout(0.3)(x)\n",
    "\n",
    "#Third Conv1D layer\n",
    "x = Conv1D(32, 9, padding='valid', activation='relu', strides=1)(x)\n",
    "x = MaxPooling1D(3)(x)\n",
    "x = Dropout(0.3)(x)\n",
    "\n",
    "x = BatchNormalization(axis=-1, momentum=0.99, epsilon=1e-3, center=True, scale=True)(x)\n",
    "\n",
    "x = Bidirectional(CuDNNGRU(128, return_sequences=True), merge_mode='sum')(x)\n",
    "x = Bidirectional(CuDNNGRU(128, return_sequences=True), merge_mode='sum')(x)\n",
    "x = Bidirectional(CuDNNGRU(128, return_sequences=False), merge_mode='sum')(x)\n",
    "\n",
    "x = BatchNormalization(axis=-1, momentum=0.99, epsilon=1e-3, center=True, scale=True)(x)\n",
    "\n",
    "#Flatten layer\n",
    "# x = Flatten()(x)\n",
    "\n",
    "#Dense Layer 1\n",
    "x = Dense(256, activation='relu')(x)\n",
    "outputs = Dense(len(labels), activation=\"softmax\")(x)\n",
    "\n",
    "model = Model(inputs, outputs)\n",
    "model.summary()\n"
   ]
  },
  {
   "cell_type": "markdown",
   "metadata": {
    "id": "lVvygW0Athdd"
   },
   "source": [
    "Define the loss function to be categorical cross-entropy since it is a multi-classification problem:\n"
   ]
  },
  {
   "cell_type": "code",
   "execution_count": null,
   "metadata": {
    "id": "LhBiEjfztjoW"
   },
   "outputs": [],
   "source": [
    "model.compile(loss='categorical_crossentropy',optimizer='nadam',metrics=['accuracy'])"
   ]
  },
  {
   "cell_type": "markdown",
   "metadata": {
    "id": "Gtml-qEutl-p"
   },
   "source": [
    "Early stopping and model checkpoints are the callbacks to stop training the neural network at the right time and to save the best model after every epoch:"
   ]
  },
  {
   "cell_type": "code",
   "execution_count": null,
   "metadata": {
    "id": "DCnqXSw7tovv"
   },
   "outputs": [],
   "source": [
    "early_stop = EarlyStopping(monitor='val_loss', mode='min', \n",
    "                           verbose=1, patience=10, min_delta=0.0001)\n",
    "\n",
    "checkpoint = ModelCheckpoint('speech2text_model.hdf5', monitor='val_acc', \n",
    "                             verbose=1, save_best_only=True, mode='max')\n",
    "\n"
   ]
  },
  {
   "cell_type": "markdown",
   "metadata": {
    "id": "Wrmx93uvts24"
   },
   "source": [
    "Let us train the model on a batch size of 32 and evaluate the performance on the holdout set:\n"
   ]
  },
  {
   "cell_type": "code",
   "execution_count": null,
   "metadata": {
    "colab": {
     "base_uri": "https://localhost:8080/"
    },
    "id": "d6u_iOJytwDP",
    "outputId": "11e909ef-f12f-4710-bd61-50804368cb9f"
   },
   "outputs": [
    {
     "name": "stdout",
     "output_type": "stream",
     "text": [
      "Epoch 1/100\n",
      "168/168 [==============================] - 123s 510ms/step - loss: 2.2548 - accuracy: 0.1912 - val_loss: 2.2038 - val_accuracy: 0.1772\n",
      "Epoch 2/100\n",
      "168/168 [==============================] - 81s 481ms/step - loss: 1.6654 - accuracy: 0.3906 - val_loss: 2.2179 - val_accuracy: 0.2584\n",
      "Epoch 3/100\n",
      "168/168 [==============================] - 85s 504ms/step - loss: 1.2198 - accuracy: 0.5651 - val_loss: 1.2661 - val_accuracy: 0.5555\n",
      "Epoch 4/100\n",
      "168/168 [==============================] - 86s 511ms/step - loss: 0.9221 - accuracy: 0.6818 - val_loss: 1.0715 - val_accuracy: 0.6396\n",
      "Epoch 5/100\n",
      "168/168 [==============================] - 86s 513ms/step - loss: 0.7584 - accuracy: 0.7367 - val_loss: 0.8507 - val_accuracy: 0.7051\n",
      "Epoch 6/100\n",
      "168/168 [==============================] - 87s 519ms/step - loss: 0.6680 - accuracy: 0.7665 - val_loss: 0.8410 - val_accuracy: 0.7111\n",
      "Epoch 7/100\n",
      "168/168 [==============================] - 87s 519ms/step - loss: 0.5587 - accuracy: 0.8082 - val_loss: 0.5016 - val_accuracy: 0.8488\n",
      "Epoch 8/100\n",
      "168/168 [==============================] - 84s 499ms/step - loss: 0.5128 - accuracy: 0.8233 - val_loss: 0.5264 - val_accuracy: 0.8340\n",
      "Epoch 9/100\n",
      "168/168 [==============================] - 86s 510ms/step - loss: 0.4481 - accuracy: 0.8408 - val_loss: 0.5128 - val_accuracy: 0.8377\n",
      "Epoch 10/100\n",
      "168/168 [==============================] - 84s 502ms/step - loss: 0.3783 - accuracy: 0.8682 - val_loss: 0.4545 - val_accuracy: 0.8481\n",
      "Epoch 11/100\n",
      "168/168 [==============================] - 81s 484ms/step - loss: 0.4676 - accuracy: 0.8447 - val_loss: 0.5191 - val_accuracy: 0.8235\n",
      "Epoch 12/100\n",
      "168/168 [==============================] - 86s 510ms/step - loss: 0.3546 - accuracy: 0.8740 - val_loss: 0.4981 - val_accuracy: 0.8340\n",
      "Epoch 13/100\n",
      "168/168 [==============================] - 85s 508ms/step - loss: 0.3175 - accuracy: 0.8859 - val_loss: 0.4476 - val_accuracy: 0.8615\n",
      "Epoch 14/100\n",
      "168/168 [==============================] - 86s 514ms/step - loss: 0.3034 - accuracy: 0.8937 - val_loss: 0.4204 - val_accuracy: 0.8704\n",
      "Epoch 15/100\n",
      "168/168 [==============================] - 85s 507ms/step - loss: 0.2722 - accuracy: 0.9045 - val_loss: 0.4584 - val_accuracy: 0.8593\n",
      "Epoch 16/100\n",
      "168/168 [==============================] - 87s 517ms/step - loss: 0.2577 - accuracy: 0.9101 - val_loss: 0.4565 - val_accuracy: 0.8541\n",
      "Epoch 17/100\n",
      "168/168 [==============================] - 84s 498ms/step - loss: 0.2336 - accuracy: 0.9160 - val_loss: 0.3604 - val_accuracy: 0.8891\n",
      "Epoch 18/100\n",
      "168/168 [==============================] - 81s 484ms/step - loss: 0.2250 - accuracy: 0.9216 - val_loss: 0.4083 - val_accuracy: 0.8943\n",
      "Epoch 19/100\n",
      "168/168 [==============================] - 83s 493ms/step - loss: 0.2251 - accuracy: 0.9209 - val_loss: 0.3591 - val_accuracy: 0.8891\n",
      "Epoch 20/100\n",
      "168/168 [==============================] - 83s 495ms/step - loss: 0.1970 - accuracy: 0.9276 - val_loss: 0.3308 - val_accuracy: 0.8958\n",
      "Epoch 21/100\n",
      "168/168 [==============================] - 84s 502ms/step - loss: 0.2032 - accuracy: 0.9270 - val_loss: 0.3306 - val_accuracy: 0.8995\n",
      "Epoch 22/100\n",
      "168/168 [==============================] - 78s 466ms/step - loss: 0.2121 - accuracy: 0.9250 - val_loss: 0.3495 - val_accuracy: 0.8958\n",
      "Epoch 23/100\n",
      "168/168 [==============================] - 81s 483ms/step - loss: 0.1996 - accuracy: 0.9317 - val_loss: 0.3587 - val_accuracy: 0.8905\n",
      "Epoch 24/100\n",
      "168/168 [==============================] - 81s 483ms/step - loss: 0.1807 - accuracy: 0.9343 - val_loss: 0.3898 - val_accuracy: 0.8838\n",
      "Epoch 25/100\n",
      "168/168 [==============================] - 83s 497ms/step - loss: 0.1901 - accuracy: 0.9326 - val_loss: 0.4021 - val_accuracy: 0.8757\n",
      "Epoch 26/100\n",
      "168/168 [==============================] - 84s 500ms/step - loss: 0.1773 - accuracy: 0.9387 - val_loss: 0.3600 - val_accuracy: 0.8883\n",
      "Epoch 27/100\n",
      "168/168 [==============================] - 85s 509ms/step - loss: 0.1669 - accuracy: 0.9410 - val_loss: 0.4168 - val_accuracy: 0.8794\n",
      "Epoch 28/100\n",
      "168/168 [==============================] - 85s 504ms/step - loss: 0.1680 - accuracy: 0.9378 - val_loss: 0.4074 - val_accuracy: 0.8853\n",
      "Epoch 29/100\n",
      "168/168 [==============================] - 85s 506ms/step - loss: 0.1702 - accuracy: 0.9380 - val_loss: 0.3468 - val_accuracy: 0.9002\n",
      "Epoch 30/100\n",
      "168/168 [==============================] - 88s 525ms/step - loss: 0.1624 - accuracy: 0.9419 - val_loss: 0.3538 - val_accuracy: 0.9010\n",
      "Epoch 31/100\n",
      "168/168 [==============================] - 78s 462ms/step - loss: 0.1532 - accuracy: 0.9484 - val_loss: 0.3036 - val_accuracy: 0.9054\n",
      "Epoch 32/100\n",
      "168/168 [==============================] - 80s 476ms/step - loss: 0.1532 - accuracy: 0.9464 - val_loss: 0.3355 - val_accuracy: 0.9010\n",
      "Epoch 33/100\n",
      "168/168 [==============================] - 82s 486ms/step - loss: 0.1502 - accuracy: 0.9488 - val_loss: 0.3460 - val_accuracy: 0.9032\n",
      "Epoch 34/100\n",
      "168/168 [==============================] - 83s 491ms/step - loss: 0.1515 - accuracy: 0.9464 - val_loss: 0.3875 - val_accuracy: 0.8853\n",
      "Epoch 35/100\n",
      "168/168 [==============================] - 84s 502ms/step - loss: 0.1485 - accuracy: 0.9464 - val_loss: 0.4781 - val_accuracy: 0.8652\n",
      "Epoch 36/100\n",
      "168/168 [==============================] - 83s 496ms/step - loss: 0.1594 - accuracy: 0.9443 - val_loss: 0.3146 - val_accuracy: 0.9069\n",
      "Epoch 37/100\n",
      "168/168 [==============================] - 84s 498ms/step - loss: 0.1344 - accuracy: 0.9514 - val_loss: 0.2876 - val_accuracy: 0.9203\n",
      "Epoch 38/100\n",
      "168/168 [==============================] - 88s 524ms/step - loss: 0.1232 - accuracy: 0.9566 - val_loss: 0.3064 - val_accuracy: 0.9069\n",
      "Epoch 39/100\n",
      "168/168 [==============================] - 81s 484ms/step - loss: 0.1303 - accuracy: 0.9548 - val_loss: 0.2807 - val_accuracy: 0.9173\n",
      "Epoch 40/100\n",
      "168/168 [==============================] - 79s 468ms/step - loss: 0.1290 - accuracy: 0.9536 - val_loss: 0.3523 - val_accuracy: 0.8980\n",
      "Epoch 41/100\n",
      "168/168 [==============================] - 81s 481ms/step - loss: 0.1207 - accuracy: 0.9568 - val_loss: 0.3068 - val_accuracy: 0.9121\n",
      "Epoch 42/100\n",
      "168/168 [==============================] - 83s 494ms/step - loss: 0.1503 - accuracy: 0.9477 - val_loss: 0.3236 - val_accuracy: 0.9136\n",
      "Epoch 43/100\n",
      "168/168 [==============================] - 84s 498ms/step - loss: 0.1159 - accuracy: 0.9583 - val_loss: 0.3872 - val_accuracy: 0.8898\n",
      "Epoch 44/100\n",
      "168/168 [==============================] - 83s 493ms/step - loss: 0.1255 - accuracy: 0.9562 - val_loss: 0.3243 - val_accuracy: 0.9099\n",
      "Epoch 45/100\n",
      "168/168 [==============================] - 82s 488ms/step - loss: 0.1258 - accuracy: 0.9564 - val_loss: 0.3386 - val_accuracy: 0.9129\n",
      "Epoch 46/100\n",
      "168/168 [==============================] - 83s 494ms/step - loss: 0.1073 - accuracy: 0.9641 - val_loss: 0.4045 - val_accuracy: 0.8868\n",
      "Epoch 47/100\n",
      "168/168 [==============================] - 85s 507ms/step - loss: 0.1676 - accuracy: 0.9415 - val_loss: 0.3036 - val_accuracy: 0.9121\n",
      "Epoch 48/100\n",
      "168/168 [==============================] - 81s 483ms/step - loss: 0.1260 - accuracy: 0.9548 - val_loss: 0.2931 - val_accuracy: 0.9121\n",
      "Epoch 49/100\n",
      "168/168 [==============================] - 80s 473ms/step - loss: 0.1216 - accuracy: 0.9579 - val_loss: 0.3241 - val_accuracy: 0.9084\n",
      "Epoch 00049: early stopping\n"
     ]
    }
   ],
   "source": [
    "hist = model.fit(\n",
    "    x=x_train, \n",
    "    y=y_train,\n",
    "    epochs=100, \n",
    "    callbacks=[early_stop], \n",
    "    batch_size=32, \n",
    "    validation_data=(x_valid,y_valid)\n",
    ")"
   ]
  },
  {
   "cell_type": "markdown",
   "metadata": {
    "id": "tZE0iU90t5zT"
   },
   "source": [
    "Diagnostic plot:\n",
    "\n",
    "we're going to lean on visualization again to understand the performance of the model over a period of time:\n"
   ]
  },
  {
   "cell_type": "code",
   "execution_count": null,
   "metadata": {
    "colab": {
     "base_uri": "https://localhost:8080/",
     "height": 265
    },
    "id": "5JuEh_l8uEry",
    "outputId": "5e5cdac2-5df1-438d-f4ca-93cacf3eb470"
   },
   "outputs": [
    {
     "data": {
      "image/png": "[encoded data removed]",
      "text/plain": [
       "<Figure size 432x288 with 1 Axes>"
      ]
     },
     "metadata": {
      "needs_background": "light"
     },
     "output_type": "display_data"
    }
   ],
   "source": [
    "from matplotlib import pyplot\n",
    "pyplot.plot(hist.history['loss'], label='train')\n",
    "pyplot.plot(hist.history['val_loss'], label='test')\n",
    "pyplot.legend()\n",
    "pyplot.show()"
   ]
  },
  {
   "cell_type": "markdown",
   "metadata": {
    "id": "q3sxlmEiuIPF"
   },
   "source": [
    "Save the best model\n"
   ]
  },
  {
   "cell_type": "code",
   "execution_count": null,
   "metadata": {
    "id": "KcsI_g8KuMOe"
   },
   "outputs": [],
   "source": [
    "model.save('speech2text_model.hdf5')"
   ]
  },
  {
   "cell_type": "markdown",
   "metadata": {
    "id": "tbvXvz01yRdD"
   },
   "source": [
    "Here you can reload the model "
   ]
  },
  {
   "cell_type": "code",
   "execution_count": 6,
   "metadata": {
    "id": "cWVd6ZcQ7agL"
   },
   "outputs": [],
   "source": [
    "from tensorflow import keras\n",
    "model = keras.models.load_model(r'C:\\Users\\ahmad\\Downloads\\speech2text_model.hdf5')"
   ]
  },
  {
   "cell_type": "markdown",
   "metadata": {
    "id": "u6OyoNi2uQ1j"
   },
   "source": [
    "Define the function that predicts text for the given audio:\n"
   ]
  },
  {
   "cell_type": "code",
   "execution_count": 15,
   "metadata": {
    "id": "ReFxVsVSuZ-Y"
   },
   "outputs": [],
   "source": [
    "def s2t_predict(audio, shape_num=8000):\n",
    "    prob=model.predict(audio.reshape(1,shape_num,1))\n",
    "    index=np.argmax(prob[0])\n",
    "    return classes[index]\n",
    "\n"
   ]
  },
  {
   "cell_type": "markdown",
   "metadata": {
    "id": "tndfPuApufoY"
   },
   "source": [
    "\n",
    "Prediction time! Make predictions on the validation data:\n"
   ]
  },
  {
   "cell_type": "code",
   "execution_count": 14,
   "metadata": {
    "colab": {
     "base_uri": "https://localhost:8080/",
     "height": 92
    },
    "id": "ow1J_Mvkuh08",
    "outputId": "10f2d8b1-ba88-446f-ebff-adb72729d93f"
   },
   "outputs": [
    {
     "ename": "NameError",
     "evalue": "name 'x_valid' is not defined",
     "output_type": "error",
     "traceback": [
      "\u001b[1;31m---------------------------------------------------------------------------\u001b[0m",
      "\u001b[1;31mNameError\u001b[0m                                 Traceback (most recent call last)",
      "\u001b[1;32m~\\AppData\\Local\\Temp/ipykernel_108/3012160113.py\u001b[0m in \u001b[0;36m<module>\u001b[1;34m\u001b[0m\n\u001b[0;32m      1\u001b[0m \u001b[1;32mimport\u001b[0m \u001b[0mrandom\u001b[0m\u001b[1;33m\u001b[0m\u001b[1;33m\u001b[0m\u001b[0m\n\u001b[1;32m----> 2\u001b[1;33m \u001b[0mindex\u001b[0m\u001b[1;33m=\u001b[0m\u001b[0mrandom\u001b[0m\u001b[1;33m.\u001b[0m\u001b[0mrandint\u001b[0m\u001b[1;33m(\u001b[0m\u001b[1;36m0\u001b[0m\u001b[1;33m,\u001b[0m\u001b[0mlen\u001b[0m\u001b[1;33m(\u001b[0m\u001b[0mx_valid\u001b[0m\u001b[1;33m)\u001b[0m\u001b[1;33m-\u001b[0m\u001b[1;36m1\u001b[0m\u001b[1;33m)\u001b[0m\u001b[1;33m\u001b[0m\u001b[1;33m\u001b[0m\u001b[0m\n\u001b[0m\u001b[0;32m      3\u001b[0m \u001b[0msamples\u001b[0m\u001b[1;33m=\u001b[0m\u001b[0mx_valid\u001b[0m\u001b[1;33m[\u001b[0m\u001b[0mindex\u001b[0m\u001b[1;33m]\u001b[0m\u001b[1;33m.\u001b[0m\u001b[0mravel\u001b[0m\u001b[1;33m(\u001b[0m\u001b[1;33m)\u001b[0m\u001b[1;33m\u001b[0m\u001b[1;33m\u001b[0m\u001b[0m\n\u001b[0;32m      4\u001b[0m \u001b[0mprint\u001b[0m\u001b[1;33m(\u001b[0m\u001b[1;34m\"Audio:\"\u001b[0m\u001b[1;33m,\u001b[0m\u001b[0mclasses\u001b[0m\u001b[1;33m[\u001b[0m\u001b[0mnp\u001b[0m\u001b[1;33m.\u001b[0m\u001b[0margmax\u001b[0m\u001b[1;33m(\u001b[0m\u001b[0my_valid\u001b[0m\u001b[1;33m[\u001b[0m\u001b[0mindex\u001b[0m\u001b[1;33m]\u001b[0m\u001b[1;33m)\u001b[0m\u001b[1;33m]\u001b[0m\u001b[1;33m)\u001b[0m\u001b[1;33m\u001b[0m\u001b[1;33m\u001b[0m\u001b[0m\n\u001b[0;32m      5\u001b[0m \u001b[0mipd\u001b[0m\u001b[1;33m.\u001b[0m\u001b[0mAudio\u001b[0m\u001b[1;33m(\u001b[0m\u001b[0msamples\u001b[0m\u001b[1;33m,\u001b[0m \u001b[0mrate\u001b[0m\u001b[1;33m=\u001b[0m\u001b[1;36m8000\u001b[0m\u001b[1;33m)\u001b[0m\u001b[1;33m\u001b[0m\u001b[1;33m\u001b[0m\u001b[0m\n",
      "\u001b[1;31mNameError\u001b[0m: name 'x_valid' is not defined"
     ]
    }
   ],
   "source": [
    "import random\n",
    "index=random.randint(0,len(x_valid)-1)\n",
    "samples=x_valid[index].ravel()\n",
    "print(\"Audio:\",classes[np.argmax(y_valid[index])])\n",
    "ipd.Audio(samples, rate=8000)\n",
    "\n"
   ]
  },
  {
   "cell_type": "markdown",
   "metadata": {
    "id": "zG-bKRO4u4ot"
   },
   "source": [
    "### TEST Time:"
   ]
  },
  {
   "cell_type": "code",
   "execution_count": 8,
   "metadata": {
    "colab": {
     "base_uri": "https://localhost:8080/"
    },
    "id": "YC5Va-Fx86zN",
    "outputId": "654301b7-cbfd-46ec-8d1b-09d73e81e118"
   },
   "outputs": [
    {
     "name": "stderr",
     "output_type": "stream",
     "text": [
      "'sudo' is not recognized as an internal or external command,\n",
      "operable program or batch file.\n"
     ]
    },
    {
     "name": "stdout",
     "output_type": "stream",
     "text": [
      "Collecting sounddevice\n",
      "  Downloading sounddevice-0.4.3-py3-none-win_amd64.whl (195 kB)\n",
      "Requirement already satisfied: CFFI>=1.0 in c:\\users\\ahmad\\anaconda3\\lib\\site-packages (from sounddevice) (1.14.6)\n",
      "Requirement already satisfied: pycparser in c:\\users\\ahmad\\anaconda3\\lib\\site-packages (from CFFI>=1.0->sounddevice) (2.20)\n",
      "Installing collected packages: sounddevice\n",
      "Successfully installed sounddevice-0.4.3\n"
     ]
    }
   ],
   "source": [
    "!pip install sounddevice"
   ]
  },
  {
   "cell_type": "code",
   "execution_count": 30,
   "metadata": {
    "colab": {
     "base_uri": "https://localhost:8080/",
     "height": 416
    },
    "id": "RyIk_vDRu_3P",
    "outputId": "d0fc04d8-dc93-4407-9940-9287956f119e"
   },
   "outputs": [
    {
     "name": "stdout",
     "output_type": "stream",
     "text": [
      "start\n",
      "end\n"
     ]
    }
   ],
   "source": [
    "import sounddevice as sd\n",
    "import soundfile as sf\n",
    "\n",
    "samplerate = 16000  \n",
    "duration = 1 # seconds\n",
    "filename = 'yes.wav'\n",
    "print(\"start\")\n",
    "mydata = sd.rec(int(samplerate * duration), samplerate=samplerate, channels=1, blocking=True)\n",
    "print(\"end\")\n",
    "sd.wait()\n",
    "sf.write(filename, mydata, samplerate)\n"
   ]
  },
  {
   "cell_type": "code",
   "execution_count": 31,
   "metadata": {
    "colab": {
     "base_uri": "https://localhost:8080/",
     "height": 81
    },
    "id": "yb3hWfxNvIe6",
    "outputId": "e785ebd3-c4c1-47dc-fca9-409eab31b09a"
   },
   "outputs": [
    {
     "name": "stdout",
     "output_type": "stream",
     "text": [
      "(8000,)\n"
     ]
    },
    {
     "data": {
      "text/html": [
       "\n",
       "                <audio  controls=\"controls\" >\n",
       "                    <source src=\"data:audio/wav;base64,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\" type=\"audio/wav\" />\n",
       "                    Your browser does not support the audio element.\n",
       "                </audio>\n",
       "              "
      ],
      "text/plain": [
       "<IPython.lib.display.Audio object>"
      ]
     },
     "execution_count": 31,
     "metadata": {},
     "output_type": "execute_result"
    }
   ],
   "source": [
    "## USE from the list labels = ['left', 'go', 'yes', 'down', 'up', 'on', 'right', 'no', 'off', 'stop',]\n",
    "#reading the voice commands\n",
    "test, test_rate = librosa.load('yes.wav', sr = 16000)\n",
    "test_sample = librosa.resample(test, test_rate, 8000)\n",
    "print(test_sample.shape)\n",
    "ipd.Audio(test_sample,rate=8000)              \n",
    "\n"
   ]
  },
  {
   "cell_type": "code",
   "execution_count": 16,
   "metadata": {
    "colab": {
     "base_uri": "https://localhost:8080/",
     "height": 355
    },
    "id": "IYVkc14dvOh7",
    "outputId": "a188da05-4a49-41c8-da26-329edc86449b"
   },
   "outputs": [
    {
     "ename": "InvalidArgumentError",
     "evalue": "No OpKernel was registered to support Op 'CudnnRNNV2' used by {{node model/bidirectional/forward_cu_dnngru/CudnnRNNV2}} with these attrs: [seed=0, dropout=0, T=DT_FLOAT, input_mode=\"linear_input\", direction=\"unidirectional\", rnn_mode=\"gru\", seed2=0, is_training=true]\nRegistered devices: [CPU]\nRegistered kernels:\n  device='GPU'; T in [DT_HALF]\n  device='GPU'; T in [DT_FLOAT]\n  device='GPU'; T in [DT_DOUBLE]\n\n\t [[model/bidirectional/forward_cu_dnngru/CudnnRNNV2]] [Op:__inference_predict_function_2576]",
     "output_type": "error",
     "traceback": [
      "\u001b[1;31m---------------------------------------------------------------------------\u001b[0m",
      "\u001b[1;31mInvalidArgumentError\u001b[0m                      Traceback (most recent call last)",
      "\u001b[1;32m~\\AppData\\Local\\Temp/ipykernel_108/1226975171.py\u001b[0m in \u001b[0;36m<module>\u001b[1;34m\u001b[0m\n\u001b[0;32m      1\u001b[0m \u001b[1;31m#converting voice commands to text\u001b[0m\u001b[1;33m\u001b[0m\u001b[1;33m\u001b[0m\u001b[1;33m\u001b[0m\u001b[0m\n\u001b[1;32m----> 2\u001b[1;33m \u001b[0ms2t_predict\u001b[0m\u001b[1;33m(\u001b[0m\u001b[0mtest_sample\u001b[0m\u001b[1;33m)\u001b[0m\u001b[1;33m\u001b[0m\u001b[1;33m\u001b[0m\u001b[0m\n\u001b[0m",
      "\u001b[1;32m~\\AppData\\Local\\Temp/ipykernel_108/2503760962.py\u001b[0m in \u001b[0;36ms2t_predict\u001b[1;34m(audio, shape_num)\u001b[0m\n\u001b[0;32m      1\u001b[0m \u001b[1;32mdef\u001b[0m \u001b[0ms2t_predict\u001b[0m\u001b[1;33m(\u001b[0m\u001b[0maudio\u001b[0m\u001b[1;33m,\u001b[0m \u001b[0mshape_num\u001b[0m\u001b[1;33m=\u001b[0m\u001b[1;36m8000\u001b[0m\u001b[1;33m)\u001b[0m\u001b[1;33m:\u001b[0m\u001b[1;33m\u001b[0m\u001b[1;33m\u001b[0m\u001b[0m\n\u001b[1;32m----> 2\u001b[1;33m     \u001b[0mprob\u001b[0m\u001b[1;33m=\u001b[0m\u001b[0mmodel\u001b[0m\u001b[1;33m.\u001b[0m\u001b[0mpredict\u001b[0m\u001b[1;33m(\u001b[0m\u001b[0maudio\u001b[0m\u001b[1;33m.\u001b[0m\u001b[0mreshape\u001b[0m\u001b[1;33m(\u001b[0m\u001b[1;36m1\u001b[0m\u001b[1;33m,\u001b[0m\u001b[0mshape_num\u001b[0m\u001b[1;33m,\u001b[0m\u001b[1;36m1\u001b[0m\u001b[1;33m)\u001b[0m\u001b[1;33m)\u001b[0m\u001b[1;33m\u001b[0m\u001b[1;33m\u001b[0m\u001b[0m\n\u001b[0m\u001b[0;32m      3\u001b[0m     \u001b[0mindex\u001b[0m\u001b[1;33m=\u001b[0m\u001b[0mnp\u001b[0m\u001b[1;33m.\u001b[0m\u001b[0margmax\u001b[0m\u001b[1;33m(\u001b[0m\u001b[0mprob\u001b[0m\u001b[1;33m[\u001b[0m\u001b[1;36m0\u001b[0m\u001b[1;33m]\u001b[0m\u001b[1;33m)\u001b[0m\u001b[1;33m\u001b[0m\u001b[1;33m\u001b[0m\u001b[0m\n\u001b[0;32m      4\u001b[0m     \u001b[1;32mreturn\u001b[0m \u001b[0mclasses\u001b[0m\u001b[1;33m[\u001b[0m\u001b[0mindex\u001b[0m\u001b[1;33m]\u001b[0m\u001b[1;33m\u001b[0m\u001b[1;33m\u001b[0m\u001b[0m\n\u001b[0;32m      5\u001b[0m \u001b[1;33m\u001b[0m\u001b[0m\n",
      "\u001b[1;32m~\\anaconda3\\lib\\site-packages\\keras\\engine\\training.py\u001b[0m in \u001b[0;36mpredict\u001b[1;34m(self, x, batch_size, verbose, steps, callbacks, max_queue_size, workers, use_multiprocessing)\u001b[0m\n\u001b[0;32m   1749\u001b[0m           \u001b[1;32mfor\u001b[0m \u001b[0mstep\u001b[0m \u001b[1;32min\u001b[0m \u001b[0mdata_handler\u001b[0m\u001b[1;33m.\u001b[0m\u001b[0msteps\u001b[0m\u001b[1;33m(\u001b[0m\u001b[1;33m)\u001b[0m\u001b[1;33m:\u001b[0m\u001b[1;33m\u001b[0m\u001b[1;33m\u001b[0m\u001b[0m\n\u001b[0;32m   1750\u001b[0m             \u001b[0mcallbacks\u001b[0m\u001b[1;33m.\u001b[0m\u001b[0mon_predict_batch_begin\u001b[0m\u001b[1;33m(\u001b[0m\u001b[0mstep\u001b[0m\u001b[1;33m)\u001b[0m\u001b[1;33m\u001b[0m\u001b[1;33m\u001b[0m\u001b[0m\n\u001b[1;32m-> 1751\u001b[1;33m             \u001b[0mtmp_batch_outputs\u001b[0m \u001b[1;33m=\u001b[0m \u001b[0mself\u001b[0m\u001b[1;33m.\u001b[0m\u001b[0mpredict_function\u001b[0m\u001b[1;33m(\u001b[0m\u001b[0miterator\u001b[0m\u001b[1;33m)\u001b[0m\u001b[1;33m\u001b[0m\u001b[1;33m\u001b[0m\u001b[0m\n\u001b[0m\u001b[0;32m   1752\u001b[0m             \u001b[1;32mif\u001b[0m \u001b[0mdata_handler\u001b[0m\u001b[1;33m.\u001b[0m\u001b[0mshould_sync\u001b[0m\u001b[1;33m:\u001b[0m\u001b[1;33m\u001b[0m\u001b[1;33m\u001b[0m\u001b[0m\n\u001b[0;32m   1753\u001b[0m               \u001b[0mcontext\u001b[0m\u001b[1;33m.\u001b[0m\u001b[0masync_wait\u001b[0m\u001b[1;33m(\u001b[0m\u001b[1;33m)\u001b[0m\u001b[1;33m\u001b[0m\u001b[1;33m\u001b[0m\u001b[0m\n",
      "\u001b[1;32m~\\anaconda3\\lib\\site-packages\\tensorflow\\python\\eager\\def_function.py\u001b[0m in \u001b[0;36m__call__\u001b[1;34m(self, *args, **kwds)\u001b[0m\n\u001b[0;32m    883\u001b[0m \u001b[1;33m\u001b[0m\u001b[0m\n\u001b[0;32m    884\u001b[0m       \u001b[1;32mwith\u001b[0m \u001b[0mOptionalXlaContext\u001b[0m\u001b[1;33m(\u001b[0m\u001b[0mself\u001b[0m\u001b[1;33m.\u001b[0m\u001b[0m_jit_compile\u001b[0m\u001b[1;33m)\u001b[0m\u001b[1;33m:\u001b[0m\u001b[1;33m\u001b[0m\u001b[1;33m\u001b[0m\u001b[0m\n\u001b[1;32m--> 885\u001b[1;33m         \u001b[0mresult\u001b[0m \u001b[1;33m=\u001b[0m \u001b[0mself\u001b[0m\u001b[1;33m.\u001b[0m\u001b[0m_call\u001b[0m\u001b[1;33m(\u001b[0m\u001b[1;33m*\u001b[0m\u001b[0margs\u001b[0m\u001b[1;33m,\u001b[0m \u001b[1;33m**\u001b[0m\u001b[0mkwds\u001b[0m\u001b[1;33m)\u001b[0m\u001b[1;33m\u001b[0m\u001b[1;33m\u001b[0m\u001b[0m\n\u001b[0m\u001b[0;32m    886\u001b[0m \u001b[1;33m\u001b[0m\u001b[0m\n\u001b[0;32m    887\u001b[0m       \u001b[0mnew_tracing_count\u001b[0m \u001b[1;33m=\u001b[0m \u001b[0mself\u001b[0m\u001b[1;33m.\u001b[0m\u001b[0mexperimental_get_tracing_count\u001b[0m\u001b[1;33m(\u001b[0m\u001b[1;33m)\u001b[0m\u001b[1;33m\u001b[0m\u001b[1;33m\u001b[0m\u001b[0m\n",
      "\u001b[1;32m~\\anaconda3\\lib\\site-packages\\tensorflow\\python\\eager\\def_function.py\u001b[0m in \u001b[0;36m_call\u001b[1;34m(self, *args, **kwds)\u001b[0m\n\u001b[0;32m    922\u001b[0m       \u001b[1;31m# In this case we have not created variables on the first call. So we can\u001b[0m\u001b[1;33m\u001b[0m\u001b[1;33m\u001b[0m\u001b[1;33m\u001b[0m\u001b[0m\n\u001b[0;32m    923\u001b[0m       \u001b[1;31m# run the first trace but we should fail if variables are created.\u001b[0m\u001b[1;33m\u001b[0m\u001b[1;33m\u001b[0m\u001b[1;33m\u001b[0m\u001b[0m\n\u001b[1;32m--> 924\u001b[1;33m       \u001b[0mresults\u001b[0m \u001b[1;33m=\u001b[0m \u001b[0mself\u001b[0m\u001b[1;33m.\u001b[0m\u001b[0m_stateful_fn\u001b[0m\u001b[1;33m(\u001b[0m\u001b[1;33m*\u001b[0m\u001b[0margs\u001b[0m\u001b[1;33m,\u001b[0m \u001b[1;33m**\u001b[0m\u001b[0mkwds\u001b[0m\u001b[1;33m)\u001b[0m\u001b[1;33m\u001b[0m\u001b[1;33m\u001b[0m\u001b[0m\n\u001b[0m\u001b[0;32m    925\u001b[0m       \u001b[1;32mif\u001b[0m \u001b[0mself\u001b[0m\u001b[1;33m.\u001b[0m\u001b[0m_created_variables\u001b[0m \u001b[1;32mand\u001b[0m \u001b[1;32mnot\u001b[0m \u001b[0mALLOW_DYNAMIC_VARIABLE_CREATION\u001b[0m\u001b[1;33m:\u001b[0m\u001b[1;33m\u001b[0m\u001b[1;33m\u001b[0m\u001b[0m\n\u001b[0;32m    926\u001b[0m         raise ValueError(\"Creating variables on a non-first call to a function\"\n",
      "\u001b[1;32m~\\anaconda3\\lib\\site-packages\\tensorflow\\python\\eager\\function.py\u001b[0m in \u001b[0;36m__call__\u001b[1;34m(self, *args, **kwargs)\u001b[0m\n\u001b[0;32m   3037\u001b[0m       (graph_function,\n\u001b[0;32m   3038\u001b[0m        filtered_flat_args) = self._maybe_define_function(args, kwargs)\n\u001b[1;32m-> 3039\u001b[1;33m     return graph_function._call_flat(\n\u001b[0m\u001b[0;32m   3040\u001b[0m         filtered_flat_args, captured_inputs=graph_function.captured_inputs)  # pylint: disable=protected-access\n\u001b[0;32m   3041\u001b[0m \u001b[1;33m\u001b[0m\u001b[0m\n",
      "\u001b[1;32m~\\anaconda3\\lib\\site-packages\\tensorflow\\python\\eager\\function.py\u001b[0m in \u001b[0;36m_call_flat\u001b[1;34m(self, args, captured_inputs, cancellation_manager)\u001b[0m\n\u001b[0;32m   1961\u001b[0m         and executing_eagerly):\n\u001b[0;32m   1962\u001b[0m       \u001b[1;31m# No tape is watching; skip to running the function.\u001b[0m\u001b[1;33m\u001b[0m\u001b[1;33m\u001b[0m\u001b[1;33m\u001b[0m\u001b[0m\n\u001b[1;32m-> 1963\u001b[1;33m       return self._build_call_outputs(self._inference_function.call(\n\u001b[0m\u001b[0;32m   1964\u001b[0m           ctx, args, cancellation_manager=cancellation_manager))\n\u001b[0;32m   1965\u001b[0m     forward_backward = self._select_forward_and_backward_functions(\n",
      "\u001b[1;32m~\\anaconda3\\lib\\site-packages\\tensorflow\\python\\eager\\function.py\u001b[0m in \u001b[0;36mcall\u001b[1;34m(self, ctx, args, cancellation_manager)\u001b[0m\n\u001b[0;32m    589\u001b[0m       \u001b[1;32mwith\u001b[0m \u001b[0m_InterpolateFunctionError\u001b[0m\u001b[1;33m(\u001b[0m\u001b[0mself\u001b[0m\u001b[1;33m)\u001b[0m\u001b[1;33m:\u001b[0m\u001b[1;33m\u001b[0m\u001b[1;33m\u001b[0m\u001b[0m\n\u001b[0;32m    590\u001b[0m         \u001b[1;32mif\u001b[0m \u001b[0mcancellation_manager\u001b[0m \u001b[1;32mis\u001b[0m \u001b[1;32mNone\u001b[0m\u001b[1;33m:\u001b[0m\u001b[1;33m\u001b[0m\u001b[1;33m\u001b[0m\u001b[0m\n\u001b[1;32m--> 591\u001b[1;33m           outputs = execute.execute(\n\u001b[0m\u001b[0;32m    592\u001b[0m               \u001b[0mstr\u001b[0m\u001b[1;33m(\u001b[0m\u001b[0mself\u001b[0m\u001b[1;33m.\u001b[0m\u001b[0msignature\u001b[0m\u001b[1;33m.\u001b[0m\u001b[0mname\u001b[0m\u001b[1;33m)\u001b[0m\u001b[1;33m,\u001b[0m\u001b[1;33m\u001b[0m\u001b[1;33m\u001b[0m\u001b[0m\n\u001b[0;32m    593\u001b[0m               \u001b[0mnum_outputs\u001b[0m\u001b[1;33m=\u001b[0m\u001b[0mself\u001b[0m\u001b[1;33m.\u001b[0m\u001b[0m_num_outputs\u001b[0m\u001b[1;33m,\u001b[0m\u001b[1;33m\u001b[0m\u001b[1;33m\u001b[0m\u001b[0m\n",
      "\u001b[1;32m~\\anaconda3\\lib\\site-packages\\tensorflow\\python\\eager\\execute.py\u001b[0m in \u001b[0;36mquick_execute\u001b[1;34m(op_name, num_outputs, inputs, attrs, ctx, name)\u001b[0m\n\u001b[0;32m     57\u001b[0m   \u001b[1;32mtry\u001b[0m\u001b[1;33m:\u001b[0m\u001b[1;33m\u001b[0m\u001b[1;33m\u001b[0m\u001b[0m\n\u001b[0;32m     58\u001b[0m     \u001b[0mctx\u001b[0m\u001b[1;33m.\u001b[0m\u001b[0mensure_initialized\u001b[0m\u001b[1;33m(\u001b[0m\u001b[1;33m)\u001b[0m\u001b[1;33m\u001b[0m\u001b[1;33m\u001b[0m\u001b[0m\n\u001b[1;32m---> 59\u001b[1;33m     tensors = pywrap_tfe.TFE_Py_Execute(ctx._handle, device_name, op_name,\n\u001b[0m\u001b[0;32m     60\u001b[0m                                         inputs, attrs, num_outputs)\n\u001b[0;32m     61\u001b[0m   \u001b[1;32mexcept\u001b[0m \u001b[0mcore\u001b[0m\u001b[1;33m.\u001b[0m\u001b[0m_NotOkStatusException\u001b[0m \u001b[1;32mas\u001b[0m \u001b[0me\u001b[0m\u001b[1;33m:\u001b[0m\u001b[1;33m\u001b[0m\u001b[1;33m\u001b[0m\u001b[0m\n",
      "\u001b[1;31mInvalidArgumentError\u001b[0m: No OpKernel was registered to support Op 'CudnnRNNV2' used by {{node model/bidirectional/forward_cu_dnngru/CudnnRNNV2}} with these attrs: [seed=0, dropout=0, T=DT_FLOAT, input_mode=\"linear_input\", direction=\"unidirectional\", rnn_mode=\"gru\", seed2=0, is_training=true]\nRegistered devices: [CPU]\nRegistered kernels:\n  device='GPU'; T in [DT_HALF]\n  device='GPU'; T in [DT_FLOAT]\n  device='GPU'; T in [DT_DOUBLE]\n\n\t [[model/bidirectional/forward_cu_dnngru/CudnnRNNV2]] [Op:__inference_predict_function_2576]"
     ]
    }
   ],
   "source": [
    "#converting voice commands to text\n",
    "s2t_predict(test_sample)"
   ]
  },
  {
   "cell_type": "code",
   "execution_count": null,
   "metadata": {
    "id": "W0DFFc2z3-aX"
   },
   "outputs": [],
   "source": [
    "\n"
   ]
  }
 ],
 "metadata": {
  "accelerator": "GPU",
  "colab": {
   "name": "Deep Learning.ipynb",
   "provenance": []
  },
  "kernelspec": {
   "display_name": "Python 3 (ipykernel)",
   "language": "python",
   "name": "python3"
  },
  "language_info": {
   "codemirror_mode": {
    "name": "ipython",
    "version": 3
   },
   "file_extension": ".py",
   "mimetype": "text/x-python",
   "name": "python",
   "nbconvert_exporter": "python",
   "pygments_lexer": "ipython3",
   "version": "3.8.11"
  }
 },
 "nbformat": 4,
 "nbformat_minor": 1
}
