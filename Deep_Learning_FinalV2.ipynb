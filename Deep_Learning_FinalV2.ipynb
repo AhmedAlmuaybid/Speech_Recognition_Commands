{
  "nbformat": 4,
  "nbformat_minor": 0,
  "metadata": {
    "colab": {
      "name": "Deep Learning.ipynb",
      "provenance": [],
      "collapsed_sections": []
    },
    "kernelspec": {
      "name": "python3",
      "display_name": "Python 3"
    },
    "language_info": {
      "name": "python"
    },
    "accelerator": "GPU"
  },
  "cells": [
    {
      "cell_type": "code",
      "metadata": {
        "id": "Nov1xtjmTdOq"
      },
      "source": [
        "# import best_team as Dream_Team_2.0"
      ],
      "execution_count": null,
      "outputs": []
    },
    {
      "cell_type": "markdown",
      "metadata": {
        "id": "Git0vXjNVYgG"
      },
      "source": [
        "### Import all nessary Liberies. "
      ]
    },
    {
      "cell_type": "code",
      "metadata": {
        "id": "wjTAEgOWT9R4"
      },
      "source": [
        "import numpy as np\n",
        "import pandas as pd\n",
        "from tensorflow.compat.v1 import ConfigProto\n",
        "from tensorflow.compat.v1 import Session\n",
        "import os\n",
        "import librosa\n",
        "import IPython.display as ipd\n",
        "import matplotlib.pyplot as plt\n",
        "from scipy.io import wavfile\n",
        "from tqdm import tqdm\n",
        "import warnings\n"
      ],
      "execution_count": 8,
      "outputs": []
    },
    {
      "cell_type": "code",
      "metadata": {
        "id": "YhfHrHX0gagc"
      },
      "source": [
        "config = ConfigProto()\n",
        "config.gpu_options.allow_growth = True\n",
        "sess = Session(config=config)\n",
        "warnings.filterwarnings(\"ignore\")"
      ],
      "execution_count": 9,
      "outputs": []
    },
    {
      "cell_type": "code",
      "metadata": {
        "colab": {
          "base_uri": "https://localhost:8080/",
          "height": 35
        },
        "id": "-8oqIqaFWljD",
        "outputId": "081ab852-8b62-4faf-ad88-57d0cbefffdc"
      },
      "source": [
        "import tensorflow as tf\n",
        "tf.test.gpu_device_name()"
      ],
      "execution_count": 3,
      "outputs": [
        {
          "output_type": "execute_result",
          "data": {
            "application/vnd.google.colaboratory.intrinsic+json": {
              "type": "string"
            },
            "text/plain": [
              "'/device:GPU:0'"
            ]
          },
          "metadata": {},
          "execution_count": 3
        }
      ]
    },
    {
      "cell_type": "markdown",
      "metadata": {
        "id": "BmS6pssdZ-WZ"
      },
      "source": [
        "### Import Data:\n"
      ]
    },
    {
      "cell_type": "markdown",
      "metadata": {
        "id": "9j9mBf18f1bD"
      },
      "source": [
        "Preprocessing the audio waves\n",
        "\n",
        "In the used dataset, the duration of a few recordings is less than 1 second and the sampling rate is too high. So, let us read the audio waves and use the below-preprocessing steps to deal with this. Here are the two steps we’ll follow:\n",
        "- Resampling\n",
        "- Removing shorter commands of less than 1 second.\n",
        "\n",
        "Let us define these pre-processing steps in the below code snippet:"
      ]
    },
    {
      "cell_type": "code",
      "metadata": {
        "id": "Om8ftjNdgHKe"
      },
      "source": [
        "# All samples\n",
        "# labels = [\n",
        "#     'left', 'cat', 'wow', 'six', 'go', 'one', 'dog', 'nine', 'sheila', 'yes',\n",
        "#     'down', 'bird', 'tree', 'up', 'eight', 'bed', 'three', 'on', 'house',\n",
        "#     'five', 'seven', 'zero', 'right', 'four', 'no', 'two', 'off', 'happy',\n",
        "#     'stop', 'marvin'\n",
        "# ]\n",
        "\n",
        "# Subsample\n",
        "labels = [\n",
        "    'left', 'go', 'yes', 'down', 'up', 'on', 'right', 'no', 'off', 'stop',\n",
        "]"
      ],
      "execution_count": 15,
      "outputs": []
    },
    {
      "cell_type": "code",
      "metadata": {
        "colab": {
          "base_uri": "https://localhost:8080/"
        },
        "id": "rCfNnZAyczc-",
        "outputId": "fe4b9ada-7e05-471c-bd67-ba422d5c8950"
      },
      "source": [
        "from google.colab import drive\n",
        "drive.mount('/content/drive', force_remount=True)"
      ],
      "execution_count": 5,
      "outputs": [
        {
          "output_type": "stream",
          "name": "stdout",
          "text": [
            "Mounted at /content/drive\n"
          ]
        }
      ]
    },
    {
      "cell_type": "markdown",
      "metadata": {
        "id": "rZMhdcm-nFX7"
      },
      "source": [
        "**Signal Processing**\n",
        "\n",
        "There are many ways to transform an audio waves into elements that an algorithm can process.In this way an audio is represented through a number vector, in which each number represents the amplitude of the sound wave in intervals of 1/16000 of a second."
      ]
    },
    {
      "cell_type": "markdown",
      "metadata": {
        "id": "e9WoWTmPoQ90"
      },
      "source": [
        "![300px-Signal_Sampling.svg.png](data:image/png;base64,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)"
      ]
    },
    {
      "cell_type": "markdown",
      "metadata": {
        "id": "foMzIhCFpBX1"
      },
      "source": [
        "The sampling frequency or sampling rate, fs, is the average number of samples obtained in one second, thus fs = 1/T. Its units are samples per second or hertz e.g. 48 kHz is 48,000 samples per second. [source](https://en.wikipedia.org/wiki/Sampling_(signal_processing))"
      ]
    },
    {
      "cell_type": "markdown",
      "metadata": {
        "id": "fQiVkUpSqRBz"
      },
      "source": [
        "from the bottom code, we can understand that the sampling rate of the signal is 16000 hz. Let us resample it to 8000 hz since most of the speech related frequencies are present in 8000 hz."
      ]
    },
    {
      "cell_type": "code",
      "metadata": {
        "colab": {
          "base_uri": "https://localhost:8080/"
        },
        "id": "-FDvQZz-g5y-",
        "outputId": "986952a2-2e04-4bd7-e8cc-2e4d9b572c14"
      },
      "source": [
        "\n",
        "\n",
        "train_audio_path = '/content/drive/MyDrive/Colab Notebooks/data/train/audio'\n",
        "\n",
        "all_wave = []\n",
        "all_label = []\n",
        "for label in tqdm(labels):\n",
        "  # Here we ONLY select file that is in our labels(10 words) list,then check if inside is .wav or not\n",
        "    waves = [f for f in os.listdir(train_audio_path + '/'+ label) if f.endswith('.wav')] \n",
        "    for wav in waves:\n",
        "        samples, sample_rate = librosa.load(train_audio_path + '/' + label + '/' + wav, sr = 16000)\n",
        "        samples = librosa.resample(samples, sample_rate, 8000)\n",
        "        if(len(samples)== 8000) : \n",
        "            all_wave.append(samples)\n",
        "            all_label.append(label)\n",
        "\n"
      ],
      "execution_count": null,
      "outputs": [
        {
          "output_type": "stream",
          "name": "stderr",
          "text": [
            "100%|██████████| 10/10 [55:46<00:00, 334.65s/it]\n"
          ]
        }
      ]
    },
    {
      "cell_type": "code",
      "metadata": {
        "colab": {
          "base_uri": "https://localhost:8080/"
        },
        "id": "Sf8rSCjng2cn",
        "outputId": "a12a15c0-38d4-4d14-dc86-fe3756247893"
      },
      "source": [
        ""
      ],
      "execution_count": null,
      "outputs": [
        {
          "output_type": "stream",
          "name": "stderr",
          "text": [
            "\r  0%|          | 0/10 [00:00<?, ?it/s]"
          ]
        },
        {
          "output_type": "execute_result",
          "data": {
            "text/plain": [
              "<tqdm.std.tqdm at 0x7f9a0af34d10>"
            ]
          },
          "metadata": {},
          "execution_count": 9
        }
      ]
    },
    {
      "cell_type": "code",
      "metadata": {
        "id": "etENjemTX7lL"
      },
      "source": [
        "import pickle"
      ],
      "execution_count": 5,
      "outputs": []
    },
    {
      "cell_type": "code",
      "metadata": {
        "id": "iXiFCN77YVLy"
      },
      "source": [
        "with open('/content/drive/MyDrive/Colab Notebooks/pickled_all_wave.pkl', 'wb') as fid:\n",
        "     pickle.dump(all_wave, fid)"
      ],
      "execution_count": null,
      "outputs": []
    },
    {
      "cell_type": "code",
      "metadata": {
        "id": "PSxa6jSAZzN0"
      },
      "source": [
        "with open('/content/drive/MyDrive/Colab Notebooks/pickled_all_label.pkl', 'wb') as fid:\n",
        "     pickle.dump(all_label, fid)"
      ],
      "execution_count": null,
      "outputs": []
    },
    {
      "cell_type": "code",
      "metadata": {
        "id": "8vpEgp2AZ_pw"
      },
      "source": [
        "# Read the data from the file\n",
        "with open('/content/drive/MyDrive/Colab Notebooks/pickled_all_label.pkl', 'rb') as fid:\n",
        "     all_label = pickle.load(fid)"
      ],
      "execution_count": 13,
      "outputs": []
    },
    {
      "cell_type": "code",
      "metadata": {
        "id": "v4QJYel8jC_P"
      },
      "source": [
        "# Read the data from the file\n",
        "with open('/content/drive/MyDrive/Colab Notebooks/pickled_all_wave.pkl', 'rb') as fid:\n",
        "     all_wave = pickle.load(fid)"
      ],
      "execution_count": 6,
      "outputs": []
    },
    {
      "cell_type": "markdown",
      "metadata": {
        "id": "L4iu24Ywsw-h"
      },
      "source": [
        "\n",
        "here we convert the output labels to integer encoded and convert the integer encoded labels to a one-hot vector since it is a multi-target problem.\n"
      ]
    },
    {
      "cell_type": "code",
      "metadata": {
        "colab": {
          "base_uri": "https://localhost:8080/"
        },
        "id": "kyviwU11ERMu",
        "outputId": "b950187d-8d32-4abc-dcaf-3049c40f0dc8"
      },
      "source": [
        "from google.colab import drive\n",
        "drive.mount('/content/drive')"
      ],
      "execution_count": 3,
      "outputs": [
        {
          "output_type": "stream",
          "name": "stdout",
          "text": [
            "Mounted at /content/drive\n"
          ]
        }
      ]
    },
    {
      "cell_type": "code",
      "metadata": {
        "id": "TKmt7Hy_nSkJ"
      },
      "source": [
        "\n",
        "# For more information of LabelEncoder  https://scikit-learn.org/stable/modules/generated/sklearn.preprocessing.LabelEncoder.html\n",
        "\"\"\"\n",
        "LabelEncoder:\n",
        "It can also be used to transform non-numerical labels (as long as they are hashable and comparable) to numerical labels.\n",
        ">>>\n",
        "\n",
        ">>> le = preprocessing.LabelEncoder()\n",
        ">>> le.fit([\"paris\", \"paris\", \"tokyo\", \"amsterdam\"])\n",
        "LabelEncoder()\n",
        ">>> list(le.classes_)\n",
        "['amsterdam', 'paris', 'tokyo']\n",
        ">>> le.transform([\"tokyo\", \"tokyo\", \"paris\"])\n",
        "array([2, 2, 1]...)\n",
        ">>> list(le.inverse_transform([2, 2, 1]))\n",
        "['tokyo', 'tokyo', 'paris']\n",
        "\n",
        "\"\"\"\n",
        "\n",
        "from sklearn.preprocessing import LabelEncoder\n",
        "from keras.utils import np_utils\n",
        "\n",
        "label_enconder = LabelEncoder()\n",
        "y = label_enconder.fit_transform(all_label)\n",
        "classes = list(label_enconder.classes_)\n",
        "y = np_utils.to_categorical(y, num_classes=len(labels))\n",
        "\n"
      ],
      "execution_count": 16,
      "outputs": []
    },
    {
      "cell_type": "markdown",
      "metadata": {
        "id": "FJmnvEIYs3v4"
      },
      "source": [
        "Using TensorFlow backend.\n",
        "Reshape the 2D array to 3D since the input to the conv1d must be a 3D array:\n",
        "1D convolution layer (conv1d)\n",
        "\n",
        "CONV1D Layer:\n",
        "This layer creates a convolution kernel that is convolved with the layer input over a single spatial (or temporal) dimension to produce a tensor of outputs.\n",
        "https://www.tensorflow.org/api_docs/python/tf/keras/layers/Conv1D\n",
        "\n",
        "-----------------\n",
        "GRU Layer:\n",
        "Based on available runtime hardware and constraints, this layer will choose different implementations (cuDNN-based or pure-TensorFlow) to maximize the performance. If a GPU is available and all the arguments to the layer meet the requirement of the CuDNN kernel (see below for details), the layer will use a fast cuDNN implementation.\n",
        "https://keras.io/api/layers/recurrent_layers/gru/\n",
        "\n",
        "----------------\n"
      ]
    },
    {
      "cell_type": "code",
      "metadata": {
        "id": "ImPYZBz8s79s"
      },
      "source": [
        "all_wave = np.array(all_wave).reshape(-1,8000,1)"
      ],
      "execution_count": 17,
      "outputs": []
    },
    {
      "cell_type": "markdown",
      "metadata": {
        "id": "0TQHrWDRs_2b"
      },
      "source": [
        "**Split into train and validation set**\n",
        "\n",
        "Next, we will train the model on 80% of the data and validate on the remaining 20%:\n",
        "\n",
        "\n"
      ]
    },
    {
      "cell_type": "code",
      "metadata": {
        "id": "NZJw2xt2tNG7"
      },
      "source": [
        "from sklearn.model_selection import train_test_split\n",
        "x_train, x_valid, y_train, y_valid = train_test_split(np.array(all_wave),np.array(y),stratify=y,test_size = 0.2,random_state=777,shuffle=True)\n"
      ],
      "execution_count": 18,
      "outputs": []
    },
    {
      "cell_type": "markdown",
      "metadata": {
        "id": "fCOSGQqjtRWZ"
      },
      "source": [
        "\n",
        "#### Model Architecture\n"
      ]
    },
    {
      "cell_type": "markdown",
      "metadata": {
        "id": "pm7bsHo0ma17"
      },
      "source": [
        "We used Conv1d and GRU layers to model the network that is used for speech recognition. Conv1d is a convolutional neural network which performs the convolution along only one dimension and GRU (Gated Recurrent Unit) aims to solve the vanishing gradient problem which comes with a standard recurrent neural network. GRU can also be considered as a variation on the LSTM because both are designed similarly and, in some cases, produce equally excellent results."
      ]
    },
    {
      "cell_type": "code",
      "metadata": {
        "id": "8bG2pFGotW3X",
        "colab": {
          "base_uri": "https://localhost:8080/"
        },
        "outputId": "e9892350-bfe7-4b82-90ed-32f7abff0345"
      },
      "source": [
        "from keras.layers import Bidirectional, BatchNormalization, CuDNNGRU, TimeDistributed\n",
        "from keras.layers import Dense, Dropout, Flatten, Conv1D, Input, MaxPooling1D\n",
        "from keras.models import Model\n",
        "from keras.callbacks import EarlyStopping, ModelCheckpoint\n",
        "from keras import backend as K\n",
        "K.clear_session()\n",
        "\n",
        "inputs = Input(shape=(8000,1))\n",
        "x = BatchNormalization(axis=-1, momentum=0.99, epsilon=1e-3, center=True, scale=True)(inputs)\n",
        "\n",
        "#First Conv1D layer\n",
        "x = Conv1D(8,13, padding='valid', activation='relu', strides=1)(x)\n",
        "x = MaxPooling1D(3)(x)\n",
        "x = Dropout(0.3)(x)\n",
        "\n",
        "#Second Conv1D layer\n",
        "x = Conv1D(16, 11, padding='valid', activation='relu', strides=1)(x)\n",
        "x = MaxPooling1D(3)(x)\n",
        "x = Dropout(0.3)(x)\n",
        "\n",
        "#Third Conv1D layer\n",
        "x = Conv1D(32, 9, padding='valid', activation='relu', strides=1)(x)\n",
        "x = MaxPooling1D(3)(x)\n",
        "x = Dropout(0.3)(x)\n",
        "\n",
        "x = BatchNormalization(axis=-1, momentum=0.99, epsilon=1e-3, center=True, scale=True)(x)\n",
        "\n",
        "x = Bidirectional(CuDNNGRU(128, return_sequences=True), merge_mode='sum')(x)\n",
        "x = Bidirectional(CuDNNGRU(128, return_sequences=True), merge_mode='sum')(x)\n",
        "x = Bidirectional(CuDNNGRU(128, return_sequences=False), merge_mode='sum')(x)\n",
        "\n",
        "x = BatchNormalization(axis=-1, momentum=0.99, epsilon=1e-3, center=True, scale=True)(x)\n",
        "\n",
        "#Flatten layer\n",
        "# x = Flatten()(x)\n",
        "\n",
        "#Dense Layer 1\n",
        "x = Dense(256, activation='relu')(x)\n",
        "outputs = Dense(len(labels), activation=\"softmax\")(x)\n",
        "\n",
        "model = Model(inputs, outputs)\n",
        "model.summary()\n"
      ],
      "execution_count": 11,
      "outputs": [
        {
          "output_type": "stream",
          "name": "stdout",
          "text": [
            "Model: \"model\"\n",
            "_________________________________________________________________\n",
            " Layer (type)                Output Shape              Param #   \n",
            "=================================================================\n",
            " input_1 (InputLayer)        [(None, 8000, 1)]         0         \n",
            "                                                                 \n",
            " batch_normalization (BatchN  (None, 8000, 1)          4         \n",
            " ormalization)                                                   \n",
            "                                                                 \n",
            " conv1d (Conv1D)             (None, 7988, 8)           112       \n",
            "                                                                 \n",
            " max_pooling1d (MaxPooling1D  (None, 2662, 8)          0         \n",
            " )                                                               \n",
            "                                                                 \n",
            " dropout (Dropout)           (None, 2662, 8)           0         \n",
            "                                                                 \n",
            " conv1d_1 (Conv1D)           (None, 2652, 16)          1424      \n",
            "                                                                 \n",
            " max_pooling1d_1 (MaxPooling  (None, 884, 16)          0         \n",
            " 1D)                                                             \n",
            "                                                                 \n",
            " dropout_1 (Dropout)         (None, 884, 16)           0         \n",
            "                                                                 \n",
            " conv1d_2 (Conv1D)           (None, 876, 32)           4640      \n",
            "                                                                 \n",
            " max_pooling1d_2 (MaxPooling  (None, 292, 32)          0         \n",
            " 1D)                                                             \n",
            "                                                                 \n",
            " dropout_2 (Dropout)         (None, 292, 32)           0         \n",
            "                                                                 \n",
            " batch_normalization_1 (Batc  (None, 292, 32)          128       \n",
            " hNormalization)                                                 \n",
            "                                                                 \n",
            " bidirectional (Bidirectiona  (None, 292, 128)         124416    \n",
            " l)                                                              \n",
            "                                                                 \n",
            " bidirectional_1 (Bidirectio  (None, 292, 128)         198144    \n",
            " nal)                                                            \n",
            "                                                                 \n",
            " bidirectional_2 (Bidirectio  (None, 128)              198144    \n",
            " nal)                                                            \n",
            "                                                                 \n",
            " batch_normalization_2 (Batc  (None, 128)              512       \n",
            " hNormalization)                                                 \n",
            "                                                                 \n",
            " dense (Dense)               (None, 256)               33024     \n",
            "                                                                 \n",
            " dense_1 (Dense)             (None, 10)                2570      \n",
            "                                                                 \n",
            "=================================================================\n",
            "Total params: 563,118\n",
            "Trainable params: 562,796\n",
            "Non-trainable params: 322\n",
            "_________________________________________________________________\n"
          ]
        }
      ]
    },
    {
      "cell_type": "markdown",
      "metadata": {
        "id": "lVvygW0Athdd"
      },
      "source": [
        "Define the loss function to be categorical cross-entropy since it is a multi-classification problem:\n"
      ]
    },
    {
      "cell_type": "code",
      "metadata": {
        "id": "LhBiEjfztjoW"
      },
      "source": [
        "model.compile(loss='categorical_crossentropy',optimizer='nadam',metrics=['accuracy'])"
      ],
      "execution_count": null,
      "outputs": []
    },
    {
      "cell_type": "markdown",
      "metadata": {
        "id": "Gtml-qEutl-p"
      },
      "source": [
        "Early stopping and model checkpoints are the callbacks to stop training the neural network at the right time and to save the best model after every epoch:"
      ]
    },
    {
      "cell_type": "code",
      "metadata": {
        "id": "DCnqXSw7tovv"
      },
      "source": [
        "early_stop = EarlyStopping(monitor='val_loss', mode='min', \n",
        "                           verbose=1, patience=10, min_delta=0.0001)\n",
        "\n",
        "checkpoint = ModelCheckpoint('speech2text_model.hdf5', monitor='val_acc', \n",
        "                             verbose=1, save_best_only=True, mode='max')\n",
        "\n"
      ],
      "execution_count": null,
      "outputs": []
    },
    {
      "cell_type": "markdown",
      "metadata": {
        "id": "Wrmx93uvts24"
      },
      "source": [
        "Let us train the model on a batch size of 32 and evaluate the performance on the holdout set:\n"
      ]
    },
    {
      "cell_type": "code",
      "metadata": {
        "colab": {
          "base_uri": "https://localhost:8080/"
        },
        "id": "d6u_iOJytwDP",
        "outputId": "11e909ef-f12f-4710-bd61-50804368cb9f"
      },
      "source": [
        "hist = model.fit(\n",
        "    x=x_train, \n",
        "    y=y_train,\n",
        "    epochs=100, \n",
        "    callbacks=[early_stop], \n",
        "    batch_size=32, \n",
        "    validation_data=(x_valid,y_valid)\n",
        ")"
      ],
      "execution_count": null,
      "outputs": [
        {
          "output_type": "stream",
          "name": "stdout",
          "text": [
            "Epoch 1/100\n",
            "168/168 [==============================] - 123s 510ms/step - loss: 2.2548 - accuracy: 0.1912 - val_loss: 2.2038 - val_accuracy: 0.1772\n",
            "Epoch 2/100\n",
            "168/168 [==============================] - 81s 481ms/step - loss: 1.6654 - accuracy: 0.3906 - val_loss: 2.2179 - val_accuracy: 0.2584\n",
            "Epoch 3/100\n",
            "168/168 [==============================] - 85s 504ms/step - loss: 1.2198 - accuracy: 0.5651 - val_loss: 1.2661 - val_accuracy: 0.5555\n",
            "Epoch 4/100\n",
            "168/168 [==============================] - 86s 511ms/step - loss: 0.9221 - accuracy: 0.6818 - val_loss: 1.0715 - val_accuracy: 0.6396\n",
            "Epoch 5/100\n",
            "168/168 [==============================] - 86s 513ms/step - loss: 0.7584 - accuracy: 0.7367 - val_loss: 0.8507 - val_accuracy: 0.7051\n",
            "Epoch 6/100\n",
            "168/168 [==============================] - 87s 519ms/step - loss: 0.6680 - accuracy: 0.7665 - val_loss: 0.8410 - val_accuracy: 0.7111\n",
            "Epoch 7/100\n",
            "168/168 [==============================] - 87s 519ms/step - loss: 0.5587 - accuracy: 0.8082 - val_loss: 0.5016 - val_accuracy: 0.8488\n",
            "Epoch 8/100\n",
            "168/168 [==============================] - 84s 499ms/step - loss: 0.5128 - accuracy: 0.8233 - val_loss: 0.5264 - val_accuracy: 0.8340\n",
            "Epoch 9/100\n",
            "168/168 [==============================] - 86s 510ms/step - loss: 0.4481 - accuracy: 0.8408 - val_loss: 0.5128 - val_accuracy: 0.8377\n",
            "Epoch 10/100\n",
            "168/168 [==============================] - 84s 502ms/step - loss: 0.3783 - accuracy: 0.8682 - val_loss: 0.4545 - val_accuracy: 0.8481\n",
            "Epoch 11/100\n",
            "168/168 [==============================] - 81s 484ms/step - loss: 0.4676 - accuracy: 0.8447 - val_loss: 0.5191 - val_accuracy: 0.8235\n",
            "Epoch 12/100\n",
            "168/168 [==============================] - 86s 510ms/step - loss: 0.3546 - accuracy: 0.8740 - val_loss: 0.4981 - val_accuracy: 0.8340\n",
            "Epoch 13/100\n",
            "168/168 [==============================] - 85s 508ms/step - loss: 0.3175 - accuracy: 0.8859 - val_loss: 0.4476 - val_accuracy: 0.8615\n",
            "Epoch 14/100\n",
            "168/168 [==============================] - 86s 514ms/step - loss: 0.3034 - accuracy: 0.8937 - val_loss: 0.4204 - val_accuracy: 0.8704\n",
            "Epoch 15/100\n",
            "168/168 [==============================] - 85s 507ms/step - loss: 0.2722 - accuracy: 0.9045 - val_loss: 0.4584 - val_accuracy: 0.8593\n",
            "Epoch 16/100\n",
            "168/168 [==============================] - 87s 517ms/step - loss: 0.2577 - accuracy: 0.9101 - val_loss: 0.4565 - val_accuracy: 0.8541\n",
            "Epoch 17/100\n",
            "168/168 [==============================] - 84s 498ms/step - loss: 0.2336 - accuracy: 0.9160 - val_loss: 0.3604 - val_accuracy: 0.8891\n",
            "Epoch 18/100\n",
            "168/168 [==============================] - 81s 484ms/step - loss: 0.2250 - accuracy: 0.9216 - val_loss: 0.4083 - val_accuracy: 0.8943\n",
            "Epoch 19/100\n",
            "168/168 [==============================] - 83s 493ms/step - loss: 0.2251 - accuracy: 0.9209 - val_loss: 0.3591 - val_accuracy: 0.8891\n",
            "Epoch 20/100\n",
            "168/168 [==============================] - 83s 495ms/step - loss: 0.1970 - accuracy: 0.9276 - val_loss: 0.3308 - val_accuracy: 0.8958\n",
            "Epoch 21/100\n",
            "168/168 [==============================] - 84s 502ms/step - loss: 0.2032 - accuracy: 0.9270 - val_loss: 0.3306 - val_accuracy: 0.8995\n",
            "Epoch 22/100\n",
            "168/168 [==============================] - 78s 466ms/step - loss: 0.2121 - accuracy: 0.9250 - val_loss: 0.3495 - val_accuracy: 0.8958\n",
            "Epoch 23/100\n",
            "168/168 [==============================] - 81s 483ms/step - loss: 0.1996 - accuracy: 0.9317 - val_loss: 0.3587 - val_accuracy: 0.8905\n",
            "Epoch 24/100\n",
            "168/168 [==============================] - 81s 483ms/step - loss: 0.1807 - accuracy: 0.9343 - val_loss: 0.3898 - val_accuracy: 0.8838\n",
            "Epoch 25/100\n",
            "168/168 [==============================] - 83s 497ms/step - loss: 0.1901 - accuracy: 0.9326 - val_loss: 0.4021 - val_accuracy: 0.8757\n",
            "Epoch 26/100\n",
            "168/168 [==============================] - 84s 500ms/step - loss: 0.1773 - accuracy: 0.9387 - val_loss: 0.3600 - val_accuracy: 0.8883\n",
            "Epoch 27/100\n",
            "168/168 [==============================] - 85s 509ms/step - loss: 0.1669 - accuracy: 0.9410 - val_loss: 0.4168 - val_accuracy: 0.8794\n",
            "Epoch 28/100\n",
            "168/168 [==============================] - 85s 504ms/step - loss: 0.1680 - accuracy: 0.9378 - val_loss: 0.4074 - val_accuracy: 0.8853\n",
            "Epoch 29/100\n",
            "168/168 [==============================] - 85s 506ms/step - loss: 0.1702 - accuracy: 0.9380 - val_loss: 0.3468 - val_accuracy: 0.9002\n",
            "Epoch 30/100\n",
            "168/168 [==============================] - 88s 525ms/step - loss: 0.1624 - accuracy: 0.9419 - val_loss: 0.3538 - val_accuracy: 0.9010\n",
            "Epoch 31/100\n",
            "168/168 [==============================] - 78s 462ms/step - loss: 0.1532 - accuracy: 0.9484 - val_loss: 0.3036 - val_accuracy: 0.9054\n",
            "Epoch 32/100\n",
            "168/168 [==============================] - 80s 476ms/step - loss: 0.1532 - accuracy: 0.9464 - val_loss: 0.3355 - val_accuracy: 0.9010\n",
            "Epoch 33/100\n",
            "168/168 [==============================] - 82s 486ms/step - loss: 0.1502 - accuracy: 0.9488 - val_loss: 0.3460 - val_accuracy: 0.9032\n",
            "Epoch 34/100\n",
            "168/168 [==============================] - 83s 491ms/step - loss: 0.1515 - accuracy: 0.9464 - val_loss: 0.3875 - val_accuracy: 0.8853\n",
            "Epoch 35/100\n",
            "168/168 [==============================] - 84s 502ms/step - loss: 0.1485 - accuracy: 0.9464 - val_loss: 0.4781 - val_accuracy: 0.8652\n",
            "Epoch 36/100\n",
            "168/168 [==============================] - 83s 496ms/step - loss: 0.1594 - accuracy: 0.9443 - val_loss: 0.3146 - val_accuracy: 0.9069\n",
            "Epoch 37/100\n",
            "168/168 [==============================] - 84s 498ms/step - loss: 0.1344 - accuracy: 0.9514 - val_loss: 0.2876 - val_accuracy: 0.9203\n",
            "Epoch 38/100\n",
            "168/168 [==============================] - 88s 524ms/step - loss: 0.1232 - accuracy: 0.9566 - val_loss: 0.3064 - val_accuracy: 0.9069\n",
            "Epoch 39/100\n",
            "168/168 [==============================] - 81s 484ms/step - loss: 0.1303 - accuracy: 0.9548 - val_loss: 0.2807 - val_accuracy: 0.9173\n",
            "Epoch 40/100\n",
            "168/168 [==============================] - 79s 468ms/step - loss: 0.1290 - accuracy: 0.9536 - val_loss: 0.3523 - val_accuracy: 0.8980\n",
            "Epoch 41/100\n",
            "168/168 [==============================] - 81s 481ms/step - loss: 0.1207 - accuracy: 0.9568 - val_loss: 0.3068 - val_accuracy: 0.9121\n",
            "Epoch 42/100\n",
            "168/168 [==============================] - 83s 494ms/step - loss: 0.1503 - accuracy: 0.9477 - val_loss: 0.3236 - val_accuracy: 0.9136\n",
            "Epoch 43/100\n",
            "168/168 [==============================] - 84s 498ms/step - loss: 0.1159 - accuracy: 0.9583 - val_loss: 0.3872 - val_accuracy: 0.8898\n",
            "Epoch 44/100\n",
            "168/168 [==============================] - 83s 493ms/step - loss: 0.1255 - accuracy: 0.9562 - val_loss: 0.3243 - val_accuracy: 0.9099\n",
            "Epoch 45/100\n",
            "168/168 [==============================] - 82s 488ms/step - loss: 0.1258 - accuracy: 0.9564 - val_loss: 0.3386 - val_accuracy: 0.9129\n",
            "Epoch 46/100\n",
            "168/168 [==============================] - 83s 494ms/step - loss: 0.1073 - accuracy: 0.9641 - val_loss: 0.4045 - val_accuracy: 0.8868\n",
            "Epoch 47/100\n",
            "168/168 [==============================] - 85s 507ms/step - loss: 0.1676 - accuracy: 0.9415 - val_loss: 0.3036 - val_accuracy: 0.9121\n",
            "Epoch 48/100\n",
            "168/168 [==============================] - 81s 483ms/step - loss: 0.1260 - accuracy: 0.9548 - val_loss: 0.2931 - val_accuracy: 0.9121\n",
            "Epoch 49/100\n",
            "168/168 [==============================] - 80s 473ms/step - loss: 0.1216 - accuracy: 0.9579 - val_loss: 0.3241 - val_accuracy: 0.9084\n",
            "Epoch 00049: early stopping\n"
          ]
        }
      ]
    },
    {
      "cell_type": "markdown",
      "metadata": {
        "id": "tZE0iU90t5zT"
      },
      "source": [
        "Diagnostic plot:\n",
        "\n",
        "we're going to lean on visualization again to understand the performance of the model over a period of time:\n"
      ]
    },
    {
      "cell_type": "code",
      "metadata": {
        "id": "5JuEh_l8uEry",
        "colab": {
          "base_uri": "https://localhost:8080/",
          "height": 265
        },
        "outputId": "5e5cdac2-5df1-438d-f4ca-93cacf3eb470"
      },
      "source": [
        "from matplotlib import pyplot\n",
        "pyplot.plot(hist.history['loss'], label='train')\n",
        "pyplot.plot(hist.history['val_loss'], label='test')\n",
        "pyplot.legend()\n",
        "pyplot.show()"
      ],
      "execution_count": null,
      "outputs": [
        {
          "output_type": "display_data",
          "data": {
            "image/png": "[encoded data removed]",
            "text/plain": [
              "<Figure size 432x288 with 1 Axes>"
            ]
          },
          "metadata": {
            "needs_background": "light"
          }
        }
      ]
    },
    {
      "cell_type": "markdown",
      "metadata": {
        "id": "q3sxlmEiuIPF"
      },
      "source": [
        "Save the best model\n"
      ]
    },
    {
      "cell_type": "code",
      "metadata": {
        "id": "KcsI_g8KuMOe"
      },
      "source": [
        "model.save('speech2text_model.hdf5')"
      ],
      "execution_count": null,
      "outputs": []
    },
    {
      "cell_type": "markdown",
      "metadata": {
        "id": "tbvXvz01yRdD"
      },
      "source": [
        "Here you can reload the model "
      ]
    },
    {
      "cell_type": "code",
      "metadata": {
        "id": "cWVd6ZcQ7agL"
      },
      "source": [
        "from tensorflow import keras\n",
        "model = keras.models.load_model('/content/speech2text_model.hdf5')"
      ],
      "execution_count": 1,
      "outputs": []
    },
    {
      "cell_type": "markdown",
      "metadata": {
        "id": "u6OyoNi2uQ1j"
      },
      "source": [
        "Define the function that predicts text for the given audio:\n"
      ]
    },
    {
      "cell_type": "code",
      "metadata": {
        "id": "ReFxVsVSuZ-Y"
      },
      "source": [
        "def s2t_predict(audio, shape_num=8000):\n",
        "    prob=model.predict(audio.reshape(1,shape_num,1))\n",
        "    index=np.argmax(prob[0])\n",
        "    return classes[index]\n",
        "\n"
      ],
      "execution_count": 24,
      "outputs": []
    },
    {
      "cell_type": "markdown",
      "metadata": {
        "id": "tndfPuApufoY"
      },
      "source": [
        "\n",
        "Prediction time! Make predictions on the validation data:\n"
      ]
    },
    {
      "cell_type": "code",
      "metadata": {
        "id": "ow1J_Mvkuh08",
        "colab": {
          "base_uri": "https://localhost:8080/",
          "height": 92
        },
        "outputId": "07ec19d3-5a0a-42fb-cfd8-5d7ffba45477"
      },
      "source": [
        "import random\n",
        "index=random.randint(0,len(x_valid)-1)\n",
        "samples=x_valid[index].ravel()\n",
        "print(\"Audio:\",classes[np.argmax(y_valid[index])])\n",
        "ipd.Audio(samples, rate=8000)\n",
        "\n"
      ],
      "execution_count": null,
      "outputs": [
        {
          "output_type": "stream",
          "name": "stdout",
          "text": [
            "Audio: stop\n"
          ]
        },
        {
          "output_type": "execute_result",
          "data": {
            "text/html": [
              "\n",
              "                <audio controls=\"controls\" >\n",
              "                    <source src=\"data:audio/wav;base64,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\" type=\"audio/wav\" />\n",
              "                    Your browser does not support the audio element.\n",
              "                </audio>\n",
              "              "
            ],
            "text/plain": [
              "<IPython.lib.display.Audio object>"
            ]
          },
          "metadata": {},
          "execution_count": 34
        }
      ]
    },
    {
      "cell_type": "markdown",
      "metadata": {
        "id": "zG-bKRO4u4ot"
      },
      "source": [
        "### TEST Time:"
      ]
    },
    {
      "cell_type": "code",
      "metadata": {
        "colab": {
          "base_uri": "https://localhost:8080/"
        },
        "id": "aGgtX1lrB8Ql",
        "outputId": "bbf9d1c8-cf87-4c98-ed22-662d3ca1278a"
      },
      "source": [
        "model.evaluate(x = x_valid , y = y_valid , verbose= 1)"
      ],
      "execution_count": 19,
      "outputs": [
        {
          "output_type": "stream",
          "name": "stdout",
          "text": [
            "134/134 [==============================] - 33s 175ms/step - loss: 0.2855 - accuracy: 0.9247\n"
          ]
        },
        {
          "output_type": "execute_result",
          "data": {
            "text/plain": [
              "[0.2854774594306946, 0.9247362017631531]"
            ]
          },
          "metadata": {},
          "execution_count": 19
        }
      ]
    },
    {
      "cell_type": "code",
      "metadata": {
        "colab": {
          "base_uri": "https://localhost:8080/"
        },
        "id": "YC5Va-Fx86zN",
        "outputId": "1d24f9b4-58bf-4335-c401-14035a69a639"
      },
      "source": [
        "!sudo apt-get install libportaudio2\n",
        "!pip install sounddevice"
      ],
      "execution_count": 21,
      "outputs": [
        {
          "output_type": "stream",
          "name": "stdout",
          "text": [
            "Reading package lists... Done\n",
            "Building dependency tree       \n",
            "Reading state information... Done\n",
            "The following NEW packages will be installed:\n",
            "  libportaudio2\n",
            "0 upgraded, 1 newly installed, 0 to remove and 37 not upgraded.\n",
            "Need to get 64.6 kB of archives.\n",
            "After this operation, 215 kB of additional disk space will be used.\n",
            "Get:1 http://archive.ubuntu.com/ubuntu bionic/universe amd64 libportaudio2 amd64 19.6.0-1 [64.6 kB]\n",
            "Fetched 64.6 kB in 0s (135 kB/s)\n",
            "debconf: unable to initialize frontend: Dialog\n",
            "debconf: (No usable dialog-like program is installed, so the dialog based frontend cannot be used. at /usr/share/perl5/Debconf/FrontEnd/Dialog.pm line 76, <> line 1.)\n",
            "debconf: falling back to frontend: Readline\n",
            "debconf: unable to initialize frontend: Readline\n",
            "debconf: (This frontend requires a controlling tty.)\n",
            "debconf: falling back to frontend: Teletype\n",
            "dpkg-preconfigure: unable to re-open stdin: \n",
            "Selecting previously unselected package libportaudio2:amd64.\n",
            "(Reading database ... 155222 files and directories currently installed.)\n",
            "Preparing to unpack .../libportaudio2_19.6.0-1_amd64.deb ...\n",
            "Unpacking libportaudio2:amd64 (19.6.0-1) ...\n",
            "Setting up libportaudio2:amd64 (19.6.0-1) ...\n",
            "Processing triggers for libc-bin (2.27-3ubuntu1.3) ...\n",
            "/sbin/ldconfig.real: /usr/local/lib/python3.7/dist-packages/ideep4py/lib/libmkldnn.so.0 is not a symbolic link\n",
            "\n",
            "Collecting sounddevice\n",
            "  Downloading sounddevice-0.4.3-py3-none-any.whl (31 kB)\n",
            "Requirement already satisfied: CFFI>=1.0 in /usr/local/lib/python3.7/dist-packages (from sounddevice) (1.15.0)\n",
            "Requirement already satisfied: pycparser in /usr/local/lib/python3.7/dist-packages (from CFFI>=1.0->sounddevice) (2.21)\n",
            "Installing collected packages: sounddevice\n",
            "Successfully installed sounddevice-0.4.3\n"
          ]
        }
      ]
    },
    {
      "cell_type": "code",
      "metadata": {
        "id": "RyIk_vDRu_3P"
      },
      "source": [
        "## This cell need to be run in local device to recored your own voice\n",
        "import sounddevice as sd\n",
        "import soundfile as sf\n",
        "\n",
        "samplerate = 16000  \n",
        "duration = 1 # seconds\n",
        "filename = 'yes.wav'\n",
        "print(\"start\")\n",
        "mydata = sd.rec(int(samplerate * duration), samplerate=samplerate, channels=1, blocking=True)\n",
        "print(\"end\")\n",
        "sd.wait()\n",
        "sf.write(filename, mydata, samplerate)\n"
      ],
      "execution_count": null,
      "outputs": []
    },
    {
      "cell_type": "code",
      "metadata": {
        "id": "yb3hWfxNvIe6",
        "colab": {
          "base_uri": "https://localhost:8080/",
          "height": 92
        },
        "outputId": "24987bac-bd85-4e38-c883-a4e8248be9cf"
      },
      "source": [
        "## USE from the list labels = ['left', 'go', 'yes', 'down', 'up', 'on', 'right', 'no', 'off', 'stop',]\n",
        "#reading the voice commands\n",
        "test, test_rate = librosa.load('download (1).wav', sr = 16000)\n",
        "test_sample = librosa.resample(test, test_rate, 8000)\n",
        "print(test_sample.shape)\n",
        "ipd.Audio(test_sample,rate=8000)              \n",
        "\n"
      ],
      "execution_count": 26,
      "outputs": [
        {
          "output_type": "stream",
          "name": "stdout",
          "text": [
            "(8000,)\n"
          ]
        },
        {
          "output_type": "execute_result",
          "data": {
            "text/html": [
              "\n",
              "                <audio controls=\"controls\" >\n",
              "                    <source src=\"data:audio/wav;base64,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\" type=\"audio/wav\" />\n",
              "                    Your browser does not support the audio element.\n",
              "                </audio>\n",
              "              "
            ],
            "text/plain": [
              "<IPython.lib.display.Audio object>"
            ]
          },
          "metadata": {},
          "execution_count": 26
        }
      ]
    },
    {
      "cell_type": "code",
      "metadata": {
        "id": "IYVkc14dvOh7",
        "colab": {
          "base_uri": "https://localhost:8080/",
          "height": 35
        },
        "outputId": "05ddc499-c9be-4830-e881-3f4987bd7e40"
      },
      "source": [
        "#converting voice commands to text\n",
        "s2t_predict(test_sample)"
      ],
      "execution_count": 27,
      "outputs": [
        {
          "output_type": "execute_result",
          "data": {
            "application/vnd.google.colaboratory.intrinsic+json": {
              "type": "string"
            },
            "text/plain": [
              "'right'"
            ]
          },
          "metadata": {},
          "execution_count": 27
        }
      ]
    },
    {
      "cell_type": "code",
      "metadata": {
        "id": "W0DFFc2z3-aX"
      },
      "source": [
        "\n"
      ],
      "execution_count": null,
      "outputs": []
    }
  ]
}